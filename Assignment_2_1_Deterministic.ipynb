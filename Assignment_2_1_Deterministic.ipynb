{
  "nbformat": 4,
  "nbformat_minor": 0,
  "metadata": {
    "colab": {
      "provenance": []
    },
    "kernelspec": {
      "name": "python3",
      "display_name": "Python 3"
    },
    "language_info": {
      "name": "python"
    }
  },
  "cells": [
    {
      "cell_type": "code",
      "execution_count": 134,
      "metadata": {
        "id": "3e-dKlb4mTR5",
        "colab": {
          "base_uri": "https://localhost:8080/"
        },
        "outputId": "528bdf17-7bcd-42c5-f701-cef42f059e7a"
      },
      "outputs": [
        {
          "output_type": "stream",
          "name": "stdout",
          "text": [
            "Looking in indexes: https://pypi.org/simple, https://us-python.pkg.dev/colab-wheels/public/simple/\n",
            "Requirement already satisfied: gym in /usr/local/lib/python3.7/dist-packages (0.25.2)\n",
            "Requirement already satisfied: cloudpickle>=1.2.0 in /usr/local/lib/python3.7/dist-packages (from gym) (1.5.0)\n",
            "Requirement already satisfied: numpy>=1.18.0 in /usr/local/lib/python3.7/dist-packages (from gym) (1.21.6)\n",
            "Requirement already satisfied: importlib-metadata>=4.8.0 in /usr/local/lib/python3.7/dist-packages (from gym) (4.12.0)\n",
            "Requirement already satisfied: gym-notices>=0.0.4 in /usr/local/lib/python3.7/dist-packages (from gym) (0.0.8)\n",
            "Requirement already satisfied: typing-extensions>=3.6.4 in /usr/local/lib/python3.7/dist-packages (from importlib-metadata>=4.8.0->gym) (4.1.1)\n",
            "Requirement already satisfied: zipp>=0.5 in /usr/local/lib/python3.7/dist-packages (from importlib-metadata>=4.8.0->gym) (3.8.1)\n"
          ]
        }
      ],
      "source": [
        "! pip install gym"
      ]
    },
    {
      "cell_type": "code",
      "source": [
        "import numpy as np\n",
        "import gym\n",
        "from gym import spaces\n",
        "import matplotlib.pyplot as plt\n",
        "import random\n",
        "import time"
      ],
      "metadata": {
        "id": "8d1O1F18mZ35"
      },
      "execution_count": 135,
      "outputs": []
    },
    {
      "cell_type": "code",
      "source": [
        "class GridEnvironment(gym.Env):\n",
        "    \n",
        "    def __init__(self, rows=4, cols=4):\n",
        "        self.observation_space = spaces.Discrete(16)\n",
        "        self.action_space = spaces.Discrete(4)\n",
        "        self.max_timesteps = 10\n",
        "        self.rows = int(rows)\n",
        "        self.columns = int(cols)\n",
        "        self.qtable = self.initialise_qtable()\n",
        "        actions_available = [0,1,2,3]\n",
        "      \n",
        "    def initialise_qtable(self):\n",
        "        qtable = {}\n",
        "        for i in range(self.rows):\n",
        "          for j in range(self.columns):\n",
        "            qtable[(i,j)] = np.zeros(4)\n",
        "        return qtable\n",
        "\n",
        "    def reset(self):\n",
        "        self.timestep = 0\n",
        "        self.agent_pos = [0, 1]\n",
        "        self.goal_pos = [3, 2]\n",
        "        self.rew_pos1 = [3, 1]\n",
        "        self.rew_pos2 = [2, 1]\n",
        "        self.rew_pos3 = [3, 0]\n",
        "        self.rew_pos4 = [1, 1]\n",
        "        self.state = np.zeros((4, 4))\n",
        "        self.state[tuple(self.agent_pos)] = 1\n",
        "        self.state[tuple(self.goal_pos)] = 1\n",
        "        observation = self.state.flatten()\n",
        "        return observation\n",
        "\n",
        "    def render(self):\n",
        "        plt.imshow(self.state)\n",
        "\n",
        "    def next_action(self, epsilon):\n",
        "      actions_available = [0,1,2,3]\n",
        "      ran = np.random.random()\n",
        "      if  ran > epsilon:\n",
        "          action = np.argmax(self.qtable[tuple(self.agent_pos)])\n",
        "      else:\n",
        "          action = np.random.choice(actions_available)\n",
        "      return action\n",
        "\n",
        "    def step(self, action):\n",
        "        self.state = np.random.choice(self.observation_space.n)\n",
        "        if action == 0:\n",
        "            self.agent_pos[0] += 1\n",
        "        if action == 1:\n",
        "          self.agent_pos[0] -= 1\n",
        "        if action == 2:\n",
        "          self.agent_pos[1] += 1\n",
        "        if action == 3:\n",
        "          self.agent_pos[1] -= 1\n",
        "        self.agent_pos = np.clip(self.agent_pos, 0, 2)\n",
        "        self.state = np.zeros((4,3))\n",
        "        self.state[tuple(self.agent_pos)] = 1\n",
        "        self.state[tuple(self.goal_pos)] = 1\n",
        "        observation = self.state.flatten()\n",
        "\n",
        "        reward = 0\n",
        "        if (self.agent_pos == self.goal_pos).all():\n",
        "            reward = 10\n",
        "        elif (self.agent_pos == self.rew_pos1).all():\n",
        "            reward = 1\n",
        "        elif (self.agent_pos == self.rew_pos2).all():\n",
        "            reward = 3\n",
        "        elif (self.agent_pos == self.rew_pos3).all():\n",
        "            reward = 5\n",
        "        elif (self.agent_pos == self.rew_pos4).all():\n",
        "            reward = 7\n",
        "        self.timestep += 1\n",
        "        done = True if self.timestep >= self.max_timesteps else False\n",
        "        \n",
        "        info = {}\n",
        "        \n",
        "        return observation, reward, done, info"
      ],
      "metadata": {
        "id": "VQpjoEGtmgoo"
      },
      "execution_count": 137,
      "outputs": []
    },
    {
      "cell_type": "code",
      "source": [
        "env = GridEnvironment()"
      ],
      "metadata": {
        "id": "-2kFGqQ2mi0N",
        "colab": {
          "base_uri": "https://localhost:8080/",
          "height": 21
        },
        "outputId": "597bef46-0ce4-4b04-c920-ccfa1898a2fd"
      },
      "execution_count": 138,
      "outputs": [
        {
          "output_type": "display_data",
          "data": {
            "text/plain": [
              "<IPython.core.display.HTML object>"
            ],
            "text/html": [
              "<style>\n",
              "       table#id46, #id46 > tbody > tr > th, #id46 > tbody > tr > td {\n",
              "         border: 1px solid lightgray;\n",
              "         border-collapse:collapse;\n",
              "         \n",
              "        }</style>"
            ]
          },
          "metadata": {}
        },
        {
          "output_type": "display_data",
          "data": {
            "text/plain": [
              "<IPython.core.display.HTML object>"
            ],
            "text/html": [
              "<table id=id46><tr><td id=id46-0-0></td></tr></table>"
            ]
          },
          "metadata": {}
        }
      ]
    },
    {
      "cell_type": "code",
      "source": [
        "obs = env.reset()\n",
        "episode = 100\n",
        "learning_rate = 0.1\n",
        "discount_rate = 0.9\n",
        "epsilon = 1.0\n",
        "decay_rate= (0.01) ** (1/episode)\n",
        "reward_per_episode = []\n",
        "render_break = 10\n",
        "epsilon_decay = []\n",
        "\n",
        "max_timesteps = 100\n",
        "for timestep in range(1, 101):\n",
        "    epsilon_decay.append(epsilon)\n",
        "    render = True if timestep % render_break == 0 else False \n",
        "    done = False\n",
        "    reward = 0 \n",
        "    cumulative_reward = 0\n",
        "    obs = env.reset()\n",
        "\n",
        "    while not done:\n",
        "        agent_current_position = env.agent_pos.copy()\n",
        "        action = env.next_action(epsilon)\n",
        "        observation, reward, done, info = env.step(action)\n",
        "        cumulative_reward+=reward\n",
        "        env.qtable[tuple(agent_current_position)][action] = env.qtable[tuple(agent_current_position)][action] + learning_rate * (reward + discount_rate * np.max(env.qtable[tuple(env.agent_pos)]) - env.qtable[tuple(agent_current_position)][action])\n",
        "        if render:\n",
        "          env.render()\n",
        "          print(\"Episode: \", timestep)\n",
        "          print(\"Reward: \", cumulative_reward)\n",
        "\n",
        "    reward_per_episode.append(cumulative_reward)\n",
        "    epsilon *= decay_rate"
      ],
      "metadata": {
        "id": "zyAaUpvUmlYz",
        "colab": {
          "base_uri": "https://localhost:8080/",
          "height": 305
        },
        "outputId": "0026f6f2-9d0e-4dc5-eb85-04963b52fc9f"
      },
      "execution_count": 139,
      "outputs": [
        {
          "output_type": "display_data",
          "data": {
            "text/plain": [
              "<IPython.core.display.Javascript object>"
            ],
            "application/javascript": [
              "window[\"037b216c-3f39-11ed-8317-0242ac1c0002\"] = google.colab.output.getActiveOutputArea();\n",
              "//# sourceURL=js_917c70c14e"
            ]
          },
          "metadata": {}
        },
        {
          "output_type": "display_data",
          "data": {
            "text/plain": [
              "<IPython.core.display.Javascript object>"
            ],
            "application/javascript": [
              "window[\"037b89ae-3f39-11ed-8317-0242ac1c0002\"] = document.querySelector(\"#id46-0-0\");\n",
              "//# sourceURL=js_af22f2b27f"
            ]
          },
          "metadata": {}
        },
        {
          "output_type": "display_data",
          "data": {
            "text/plain": [
              "<IPython.core.display.Javascript object>"
            ],
            "application/javascript": [
              "window[\"037beb38-3f39-11ed-8317-0242ac1c0002\"] = google.colab.output.setActiveOutputArea(window[\"037b89ae-3f39-11ed-8317-0242ac1c0002\"]);\n",
              "//# sourceURL=js_5c49816ae4"
            ]
          },
          "metadata": {}
        },
        {
          "output_type": "display_data",
          "data": {
            "text/plain": [
              "<IPython.core.display.Javascript object>"
            ],
            "application/javascript": [
              "window[\"0396988e-3f39-11ed-8317-0242ac1c0002\"] = google.colab.output.setActiveOutputArea(window[\"037b216c-3f39-11ed-8317-0242ac1c0002\"]);\n",
              "//# sourceURL=js_2b6de260ba"
            ]
          },
          "metadata": {}
        },
        {
          "output_type": "display_data",
          "data": {
            "text/plain": [
              "<IPython.core.display.Javascript object>"
            ],
            "application/javascript": [
              "window[\"043271a0-3f39-11ed-8317-0242ac1c0002\"] = google.colab.output.getActiveOutputArea();\n",
              "//# sourceURL=js_44ec0d7fef"
            ]
          },
          "metadata": {}
        },
        {
          "output_type": "display_data",
          "data": {
            "text/plain": [
              "<IPython.core.display.Javascript object>"
            ],
            "application/javascript": [
              "window[\"0433035e-3f39-11ed-8317-0242ac1c0002\"] = document.querySelector(\"#id46-0-0\");\n",
              "//# sourceURL=js_97346aedc2"
            ]
          },
          "metadata": {}
        },
        {
          "output_type": "display_data",
          "data": {
            "text/plain": [
              "<IPython.core.display.Javascript object>"
            ],
            "application/javascript": [
              "window[\"0433d25c-3f39-11ed-8317-0242ac1c0002\"] = google.colab.output.setActiveOutputArea(window[\"0433035e-3f39-11ed-8317-0242ac1c0002\"]);\n",
              "//# sourceURL=js_4e4d8f1973"
            ]
          },
          "metadata": {}
        },
        {
          "output_type": "display_data",
          "data": {
            "text/plain": [
              "<IPython.core.display.Javascript object>"
            ],
            "application/javascript": [
              "window[\"045964c2-3f39-11ed-8317-0242ac1c0002\"] = google.colab.output.setActiveOutputArea(window[\"043271a0-3f39-11ed-8317-0242ac1c0002\"]);\n",
              "//# sourceURL=js_85d66c0dac"
            ]
          },
          "metadata": {}
        },
        {
          "output_type": "display_data",
          "data": {
            "text/plain": [
              "<IPython.core.display.Javascript object>"
            ],
            "application/javascript": [
              "window[\"04f4e5c8-3f39-11ed-8317-0242ac1c0002\"] = google.colab.output.getActiveOutputArea();\n",
              "//# sourceURL=js_0b579ac0dd"
            ]
          },
          "metadata": {}
        },
        {
          "output_type": "display_data",
          "data": {
            "text/plain": [
              "<IPython.core.display.Javascript object>"
            ],
            "application/javascript": [
              "window[\"04f5491e-3f39-11ed-8317-0242ac1c0002\"] = document.querySelector(\"#id46-0-0\");\n",
              "//# sourceURL=js_9e7859bd09"
            ]
          },
          "metadata": {}
        },
        {
          "output_type": "display_data",
          "data": {
            "text/plain": [
              "<IPython.core.display.Javascript object>"
            ],
            "application/javascript": [
              "window[\"04f5a5ee-3f39-11ed-8317-0242ac1c0002\"] = google.colab.output.setActiveOutputArea(window[\"04f5491e-3f39-11ed-8317-0242ac1c0002\"]);\n",
              "//# sourceURL=js_86127bdfe9"
            ]
          },
          "metadata": {}
        },
        {
          "output_type": "display_data",
          "data": {
            "text/plain": [
              "<IPython.core.display.Javascript object>"
            ],
            "application/javascript": [
              "window[\"051457fa-3f39-11ed-8317-0242ac1c0002\"] = google.colab.output.setActiveOutputArea(window[\"04f4e5c8-3f39-11ed-8317-0242ac1c0002\"]);\n",
              "//# sourceURL=js_0062642b3b"
            ]
          },
          "metadata": {}
        },
        {
          "output_type": "display_data",
          "data": {
            "text/plain": [
              "<IPython.core.display.Javascript object>"
            ],
            "application/javascript": [
              "window[\"05b06834-3f39-11ed-8317-0242ac1c0002\"] = google.colab.output.getActiveOutputArea();\n",
              "//# sourceURL=js_8836039dc5"
            ]
          },
          "metadata": {}
        },
        {
          "output_type": "display_data",
          "data": {
            "text/plain": [
              "<IPython.core.display.Javascript object>"
            ],
            "application/javascript": [
              "window[\"05b0dada-3f39-11ed-8317-0242ac1c0002\"] = document.querySelector(\"#id46-0-0\");\n",
              "//# sourceURL=js_3c354fbf67"
            ]
          },
          "metadata": {}
        },
        {
          "output_type": "display_data",
          "data": {
            "text/plain": [
              "<IPython.core.display.Javascript object>"
            ],
            "application/javascript": [
              "window[\"05b13e30-3f39-11ed-8317-0242ac1c0002\"] = google.colab.output.setActiveOutputArea(window[\"05b0dada-3f39-11ed-8317-0242ac1c0002\"]);\n",
              "//# sourceURL=js_5f43a2cdab"
            ]
          },
          "metadata": {}
        },
        {
          "output_type": "display_data",
          "data": {
            "text/plain": [
              "<IPython.core.display.Javascript object>"
            ],
            "application/javascript": [
              "window[\"05ccc754-3f39-11ed-8317-0242ac1c0002\"] = google.colab.output.setActiveOutputArea(window[\"05b06834-3f39-11ed-8317-0242ac1c0002\"]);\n",
              "//# sourceURL=js_a51745e886"
            ]
          },
          "metadata": {}
        },
        {
          "output_type": "display_data",
          "data": {
            "text/plain": [
              "<IPython.core.display.Javascript object>"
            ],
            "application/javascript": [
              "window[\"06684ecc-3f39-11ed-8317-0242ac1c0002\"] = google.colab.output.getActiveOutputArea();\n",
              "//# sourceURL=js_db5832e32c"
            ]
          },
          "metadata": {}
        },
        {
          "output_type": "display_data",
          "data": {
            "text/plain": [
              "<IPython.core.display.Javascript object>"
            ],
            "application/javascript": [
              "window[\"0668d892-3f39-11ed-8317-0242ac1c0002\"] = document.querySelector(\"#id46-0-0\");\n",
              "//# sourceURL=js_409c3d36cb"
            ]
          },
          "metadata": {}
        },
        {
          "output_type": "display_data",
          "data": {
            "text/plain": [
              "<IPython.core.display.Javascript object>"
            ],
            "application/javascript": [
              "window[\"06693378-3f39-11ed-8317-0242ac1c0002\"] = google.colab.output.setActiveOutputArea(window[\"0668d892-3f39-11ed-8317-0242ac1c0002\"]);\n",
              "//# sourceURL=js_33eaf42046"
            ]
          },
          "metadata": {}
        },
        {
          "output_type": "display_data",
          "data": {
            "text/plain": [
              "<IPython.core.display.Javascript object>"
            ],
            "application/javascript": [
              "window[\"068428c2-3f39-11ed-8317-0242ac1c0002\"] = google.colab.output.setActiveOutputArea(window[\"06684ecc-3f39-11ed-8317-0242ac1c0002\"]);\n",
              "//# sourceURL=js_04b231dd06"
            ]
          },
          "metadata": {}
        },
        {
          "output_type": "display_data",
          "data": {
            "text/plain": [
              "<IPython.core.display.Javascript object>"
            ],
            "application/javascript": [
              "window[\"0720a29c-3f39-11ed-8317-0242ac1c0002\"] = google.colab.output.getActiveOutputArea();\n",
              "//# sourceURL=js_fcaf1492c0"
            ]
          },
          "metadata": {}
        },
        {
          "output_type": "display_data",
          "data": {
            "text/plain": [
              "<IPython.core.display.Javascript object>"
            ],
            "application/javascript": [
              "window[\"07233264-3f39-11ed-8317-0242ac1c0002\"] = document.querySelector(\"#id46-0-0\");\n",
              "//# sourceURL=js_4942c2975a"
            ]
          },
          "metadata": {}
        },
        {
          "output_type": "display_data",
          "data": {
            "text/plain": [
              "<IPython.core.display.Javascript object>"
            ],
            "application/javascript": [
              "window[\"072496f4-3f39-11ed-8317-0242ac1c0002\"] = google.colab.output.setActiveOutputArea(window[\"07233264-3f39-11ed-8317-0242ac1c0002\"]);\n",
              "//# sourceURL=js_bef5f1dcd1"
            ]
          },
          "metadata": {}
        },
        {
          "output_type": "display_data",
          "data": {
            "text/plain": [
              "<IPython.core.display.Javascript object>"
            ],
            "application/javascript": [
              "window[\"075849fe-3f39-11ed-8317-0242ac1c0002\"] = google.colab.output.setActiveOutputArea(window[\"0720a29c-3f39-11ed-8317-0242ac1c0002\"]);\n",
              "//# sourceURL=js_4fe52484b4"
            ]
          },
          "metadata": {}
        },
        {
          "output_type": "display_data",
          "data": {
            "text/plain": [
              "<IPython.core.display.Javascript object>"
            ],
            "application/javascript": [
              "window[\"07f79586-3f39-11ed-8317-0242ac1c0002\"] = google.colab.output.getActiveOutputArea();\n",
              "//# sourceURL=js_1e60657686"
            ]
          },
          "metadata": {}
        },
        {
          "output_type": "display_data",
          "data": {
            "text/plain": [
              "<IPython.core.display.Javascript object>"
            ],
            "application/javascript": [
              "window[\"07f8e7ce-3f39-11ed-8317-0242ac1c0002\"] = document.querySelector(\"#id46-0-0\");\n",
              "//# sourceURL=js_6073957853"
            ]
          },
          "metadata": {}
        },
        {
          "output_type": "display_data",
          "data": {
            "text/plain": [
              "<IPython.core.display.Javascript object>"
            ],
            "application/javascript": [
              "window[\"07fa1428-3f39-11ed-8317-0242ac1c0002\"] = google.colab.output.setActiveOutputArea(window[\"07f8e7ce-3f39-11ed-8317-0242ac1c0002\"]);\n",
              "//# sourceURL=js_d899b08f7e"
            ]
          },
          "metadata": {}
        },
        {
          "output_type": "display_data",
          "data": {
            "text/plain": [
              "<IPython.core.display.Javascript object>"
            ],
            "application/javascript": [
              "window[\"0843da0e-3f39-11ed-8317-0242ac1c0002\"] = google.colab.output.setActiveOutputArea(window[\"07f79586-3f39-11ed-8317-0242ac1c0002\"]);\n",
              "//# sourceURL=js_fcc74fa7bb"
            ]
          },
          "metadata": {}
        },
        {
          "output_type": "display_data",
          "data": {
            "text/plain": [
              "<IPython.core.display.Javascript object>"
            ],
            "application/javascript": [
              "window[\"08e236a4-3f39-11ed-8317-0242ac1c0002\"] = google.colab.output.getActiveOutputArea();\n",
              "//# sourceURL=js_02235f8a0d"
            ]
          },
          "metadata": {}
        },
        {
          "output_type": "display_data",
          "data": {
            "text/plain": [
              "<IPython.core.display.Javascript object>"
            ],
            "application/javascript": [
              "window[\"08e3917a-3f39-11ed-8317-0242ac1c0002\"] = document.querySelector(\"#id46-0-0\");\n",
              "//# sourceURL=js_cc0eaaaba9"
            ]
          },
          "metadata": {}
        },
        {
          "output_type": "display_data",
          "data": {
            "text/plain": [
              "<IPython.core.display.Javascript object>"
            ],
            "application/javascript": [
              "window[\"08e4d468-3f39-11ed-8317-0242ac1c0002\"] = google.colab.output.setActiveOutputArea(window[\"08e3917a-3f39-11ed-8317-0242ac1c0002\"]);\n",
              "//# sourceURL=js_65bb806620"
            ]
          },
          "metadata": {}
        },
        {
          "output_type": "display_data",
          "data": {
            "text/plain": [
              "<IPython.core.display.Javascript object>"
            ],
            "application/javascript": [
              "window[\"091a7258-3f39-11ed-8317-0242ac1c0002\"] = google.colab.output.setActiveOutputArea(window[\"08e236a4-3f39-11ed-8317-0242ac1c0002\"]);\n",
              "//# sourceURL=js_5ac1f14d07"
            ]
          },
          "metadata": {}
        },
        {
          "output_type": "display_data",
          "data": {
            "text/plain": [
              "<IPython.core.display.Javascript object>"
            ],
            "application/javascript": [
              "window[\"09b816f2-3f39-11ed-8317-0242ac1c0002\"] = google.colab.output.getActiveOutputArea();\n",
              "//# sourceURL=js_6344e859f5"
            ]
          },
          "metadata": {}
        },
        {
          "output_type": "display_data",
          "data": {
            "text/plain": [
              "<IPython.core.display.Javascript object>"
            ],
            "application/javascript": [
              "window[\"09b8b0da-3f39-11ed-8317-0242ac1c0002\"] = document.querySelector(\"#id46-0-0\");\n",
              "//# sourceURL=js_7542600174"
            ]
          },
          "metadata": {}
        },
        {
          "output_type": "display_data",
          "data": {
            "text/plain": [
              "<IPython.core.display.Javascript object>"
            ],
            "application/javascript": [
              "window[\"09b9a01c-3f39-11ed-8317-0242ac1c0002\"] = google.colab.output.setActiveOutputArea(window[\"09b8b0da-3f39-11ed-8317-0242ac1c0002\"]);\n",
              "//# sourceURL=js_339c813965"
            ]
          },
          "metadata": {}
        },
        {
          "output_type": "display_data",
          "data": {
            "text/plain": [
              "<IPython.core.display.Javascript object>"
            ],
            "application/javascript": [
              "window[\"09f763ca-3f39-11ed-8317-0242ac1c0002\"] = google.colab.output.setActiveOutputArea(window[\"09b816f2-3f39-11ed-8317-0242ac1c0002\"]);\n",
              "//# sourceURL=js_00f79f9930"
            ]
          },
          "metadata": {}
        },
        {
          "output_type": "display_data",
          "data": {
            "text/plain": [
              "<IPython.core.display.Javascript object>"
            ],
            "application/javascript": [
              "window[\"0a95927a-3f39-11ed-8317-0242ac1c0002\"] = google.colab.output.getActiveOutputArea();\n",
              "//# sourceURL=js_bcc52bb422"
            ]
          },
          "metadata": {}
        },
        {
          "output_type": "display_data",
          "data": {
            "text/plain": [
              "<IPython.core.display.Javascript object>"
            ],
            "application/javascript": [
              "window[\"0a97c040-3f39-11ed-8317-0242ac1c0002\"] = document.querySelector(\"#id46-0-0\");\n",
              "//# sourceURL=js_76aa1c261d"
            ]
          },
          "metadata": {}
        },
        {
          "output_type": "display_data",
          "data": {
            "text/plain": [
              "<IPython.core.display.Javascript object>"
            ],
            "application/javascript": [
              "window[\"0a989c5e-3f39-11ed-8317-0242ac1c0002\"] = google.colab.output.setActiveOutputArea(window[\"0a97c040-3f39-11ed-8317-0242ac1c0002\"]);\n",
              "//# sourceURL=js_80885b4c2b"
            ]
          },
          "metadata": {}
        },
        {
          "output_type": "display_data",
          "data": {
            "text/plain": [
              "<IPython.core.display.Javascript object>"
            ],
            "application/javascript": [
              "window[\"0ad7938c-3f39-11ed-8317-0242ac1c0002\"] = google.colab.output.setActiveOutputArea(window[\"0a95927a-3f39-11ed-8317-0242ac1c0002\"]);\n",
              "//# sourceURL=js_dc09267154"
            ]
          },
          "metadata": {}
        },
        {
          "output_type": "display_data",
          "data": {
            "text/plain": [
              "<IPython.core.display.Javascript object>"
            ],
            "application/javascript": [
              "window[\"0b7cb88a-3f39-11ed-8317-0242ac1c0002\"] = google.colab.output.getActiveOutputArea();\n",
              "//# sourceURL=js_d7b55f2cce"
            ]
          },
          "metadata": {}
        },
        {
          "output_type": "display_data",
          "data": {
            "text/plain": [
              "<IPython.core.display.Javascript object>"
            ],
            "application/javascript": [
              "window[\"0b7e4f92-3f39-11ed-8317-0242ac1c0002\"] = document.querySelector(\"#id46-0-0\");\n",
              "//# sourceURL=js_d98732de8a"
            ]
          },
          "metadata": {}
        },
        {
          "output_type": "display_data",
          "data": {
            "text/plain": [
              "<IPython.core.display.Javascript object>"
            ],
            "application/javascript": [
              "window[\"0b8056ca-3f39-11ed-8317-0242ac1c0002\"] = google.colab.output.setActiveOutputArea(window[\"0b7e4f92-3f39-11ed-8317-0242ac1c0002\"]);\n",
              "//# sourceURL=js_fcd129f87e"
            ]
          },
          "metadata": {}
        },
        {
          "output_type": "display_data",
          "data": {
            "text/plain": [
              "<IPython.core.display.Javascript object>"
            ],
            "application/javascript": [
              "window[\"0bbd1880-3f39-11ed-8317-0242ac1c0002\"] = google.colab.output.setActiveOutputArea(window[\"0b7cb88a-3f39-11ed-8317-0242ac1c0002\"]);\n",
              "//# sourceURL=js_cf22d58168"
            ]
          },
          "metadata": {}
        },
        {
          "output_type": "display_data",
          "data": {
            "text/plain": [
              "<IPython.core.display.Javascript object>"
            ],
            "application/javascript": [
              "window[\"0c5b6b0c-3f39-11ed-8317-0242ac1c0002\"] = google.colab.output.getActiveOutputArea();\n",
              "//# sourceURL=js_70c63a79ea"
            ]
          },
          "metadata": {}
        },
        {
          "output_type": "display_data",
          "data": {
            "text/plain": [
              "<IPython.core.display.Javascript object>"
            ],
            "application/javascript": [
              "window[\"0c5bd7fe-3f39-11ed-8317-0242ac1c0002\"] = document.querySelector(\"#id46-0-0\");\n",
              "//# sourceURL=js_5f0716a489"
            ]
          },
          "metadata": {}
        },
        {
          "output_type": "display_data",
          "data": {
            "text/plain": [
              "<IPython.core.display.Javascript object>"
            ],
            "application/javascript": [
              "window[\"0c5c4626-3f39-11ed-8317-0242ac1c0002\"] = google.colab.output.setActiveOutputArea(window[\"0c5bd7fe-3f39-11ed-8317-0242ac1c0002\"]);\n",
              "//# sourceURL=js_7eaf078357"
            ]
          },
          "metadata": {}
        },
        {
          "output_type": "display_data",
          "data": {
            "text/plain": [
              "<IPython.core.display.Javascript object>"
            ],
            "application/javascript": [
              "window[\"0c971530-3f39-11ed-8317-0242ac1c0002\"] = google.colab.output.setActiveOutputArea(window[\"0c5b6b0c-3f39-11ed-8317-0242ac1c0002\"]);\n",
              "//# sourceURL=js_9ecd71d673"
            ]
          },
          "metadata": {}
        },
        {
          "output_type": "display_data",
          "data": {
            "text/plain": [
              "<IPython.core.display.Javascript object>"
            ],
            "application/javascript": [
              "window[\"0d34525a-3f39-11ed-8317-0242ac1c0002\"] = google.colab.output.getActiveOutputArea();\n",
              "//# sourceURL=js_1e223db033"
            ]
          },
          "metadata": {}
        },
        {
          "output_type": "display_data",
          "data": {
            "text/plain": [
              "<IPython.core.display.Javascript object>"
            ],
            "application/javascript": [
              "window[\"0d34b826-3f39-11ed-8317-0242ac1c0002\"] = document.querySelector(\"#id46-0-0\");\n",
              "//# sourceURL=js_3c97a02049"
            ]
          },
          "metadata": {}
        },
        {
          "output_type": "display_data",
          "data": {
            "text/plain": [
              "<IPython.core.display.Javascript object>"
            ],
            "application/javascript": [
              "window[\"0d3510aa-3f39-11ed-8317-0242ac1c0002\"] = google.colab.output.setActiveOutputArea(window[\"0d34b826-3f39-11ed-8317-0242ac1c0002\"]);\n",
              "//# sourceURL=js_247ebab266"
            ]
          },
          "metadata": {}
        },
        {
          "output_type": "display_data",
          "data": {
            "text/plain": [
              "<IPython.core.display.Javascript object>"
            ],
            "application/javascript": [
              "window[\"0d51597c-3f39-11ed-8317-0242ac1c0002\"] = google.colab.output.setActiveOutputArea(window[\"0d34525a-3f39-11ed-8317-0242ac1c0002\"]);\n",
              "//# sourceURL=js_c515e9d7b3"
            ]
          },
          "metadata": {}
        },
        {
          "output_type": "display_data",
          "data": {
            "text/plain": [
              "<IPython.core.display.Javascript object>"
            ],
            "application/javascript": [
              "window[\"0decce20-3f39-11ed-8317-0242ac1c0002\"] = google.colab.output.getActiveOutputArea();\n",
              "//# sourceURL=js_c790b19eef"
            ]
          },
          "metadata": {}
        },
        {
          "output_type": "display_data",
          "data": {
            "text/plain": [
              "<IPython.core.display.Javascript object>"
            ],
            "application/javascript": [
              "window[\"0ded3ae0-3f39-11ed-8317-0242ac1c0002\"] = document.querySelector(\"#id46-0-0\");\n",
              "//# sourceURL=js_639a8e55fc"
            ]
          },
          "metadata": {}
        },
        {
          "output_type": "display_data",
          "data": {
            "text/plain": [
              "<IPython.core.display.Javascript object>"
            ],
            "application/javascript": [
              "window[\"0dede18e-3f39-11ed-8317-0242ac1c0002\"] = google.colab.output.setActiveOutputArea(window[\"0ded3ae0-3f39-11ed-8317-0242ac1c0002\"]);\n",
              "//# sourceURL=js_84a3932537"
            ]
          },
          "metadata": {}
        },
        {
          "output_type": "display_data",
          "data": {
            "text/plain": [
              "<IPython.core.display.Javascript object>"
            ],
            "application/javascript": [
              "window[\"0e07d300-3f39-11ed-8317-0242ac1c0002\"] = google.colab.output.setActiveOutputArea(window[\"0decce20-3f39-11ed-8317-0242ac1c0002\"]);\n",
              "//# sourceURL=js_83660e6360"
            ]
          },
          "metadata": {}
        },
        {
          "output_type": "display_data",
          "data": {
            "text/plain": [
              "<IPython.core.display.Javascript object>"
            ],
            "application/javascript": [
              "window[\"0ea52c68-3f39-11ed-8317-0242ac1c0002\"] = google.colab.output.getActiveOutputArea();\n",
              "//# sourceURL=js_addac4f10c"
            ]
          },
          "metadata": {}
        },
        {
          "output_type": "display_data",
          "data": {
            "text/plain": [
              "<IPython.core.display.Javascript object>"
            ],
            "application/javascript": [
              "window[\"0ea59856-3f39-11ed-8317-0242ac1c0002\"] = document.querySelector(\"#id46-0-0\");\n",
              "//# sourceURL=js_ecb873806f"
            ]
          },
          "metadata": {}
        },
        {
          "output_type": "display_data",
          "data": {
            "text/plain": [
              "<IPython.core.display.Javascript object>"
            ],
            "application/javascript": [
              "window[\"0ea6b272-3f39-11ed-8317-0242ac1c0002\"] = google.colab.output.setActiveOutputArea(window[\"0ea59856-3f39-11ed-8317-0242ac1c0002\"]);\n",
              "//# sourceURL=js_63f8ed4a48"
            ]
          },
          "metadata": {}
        },
        {
          "output_type": "display_data",
          "data": {
            "text/plain": [
              "<IPython.core.display.Javascript object>"
            ],
            "application/javascript": [
              "window[\"0ec10e4c-3f39-11ed-8317-0242ac1c0002\"] = google.colab.output.setActiveOutputArea(window[\"0ea52c68-3f39-11ed-8317-0242ac1c0002\"]);\n",
              "//# sourceURL=js_eb321f6822"
            ]
          },
          "metadata": {}
        },
        {
          "output_type": "display_data",
          "data": {
            "text/plain": [
              "<IPython.core.display.Javascript object>"
            ],
            "application/javascript": [
              "window[\"0f5c8732-3f39-11ed-8317-0242ac1c0002\"] = google.colab.output.getActiveOutputArea();\n",
              "//# sourceURL=js_cc5aa3b94a"
            ]
          },
          "metadata": {}
        },
        {
          "output_type": "display_data",
          "data": {
            "text/plain": [
              "<IPython.core.display.Javascript object>"
            ],
            "application/javascript": [
              "window[\"0f5cfba4-3f39-11ed-8317-0242ac1c0002\"] = document.querySelector(\"#id46-0-0\");\n",
              "//# sourceURL=js_72c957401b"
            ]
          },
          "metadata": {}
        },
        {
          "output_type": "display_data",
          "data": {
            "text/plain": [
              "<IPython.core.display.Javascript object>"
            ],
            "application/javascript": [
              "window[\"0f5d5a5e-3f39-11ed-8317-0242ac1c0002\"] = google.colab.output.setActiveOutputArea(window[\"0f5cfba4-3f39-11ed-8317-0242ac1c0002\"]);\n",
              "//# sourceURL=js_9a1c9f025a"
            ]
          },
          "metadata": {}
        },
        {
          "output_type": "display_data",
          "data": {
            "text/plain": [
              "<IPython.core.display.Javascript object>"
            ],
            "application/javascript": [
              "window[\"0f7793f6-3f39-11ed-8317-0242ac1c0002\"] = google.colab.output.setActiveOutputArea(window[\"0f5c8732-3f39-11ed-8317-0242ac1c0002\"]);\n",
              "//# sourceURL=js_fcfffb7aa8"
            ]
          },
          "metadata": {}
        },
        {
          "output_type": "display_data",
          "data": {
            "text/plain": [
              "<IPython.core.display.Javascript object>"
            ],
            "application/javascript": [
              "window[\"1013b588-3f39-11ed-8317-0242ac1c0002\"] = google.colab.output.getActiveOutputArea();\n",
              "//# sourceURL=js_0bc2e99037"
            ]
          },
          "metadata": {}
        },
        {
          "output_type": "display_data",
          "data": {
            "text/plain": [
              "<IPython.core.display.Javascript object>"
            ],
            "application/javascript": [
              "window[\"10142720-3f39-11ed-8317-0242ac1c0002\"] = document.querySelector(\"#id46-0-0\");\n",
              "//# sourceURL=js_a150d456df"
            ]
          },
          "metadata": {}
        },
        {
          "output_type": "display_data",
          "data": {
            "text/plain": [
              "<IPython.core.display.Javascript object>"
            ],
            "application/javascript": [
              "window[\"1014ee1c-3f39-11ed-8317-0242ac1c0002\"] = google.colab.output.setActiveOutputArea(window[\"10142720-3f39-11ed-8317-0242ac1c0002\"]);\n",
              "//# sourceURL=js_5106e0124d"
            ]
          },
          "metadata": {}
        },
        {
          "output_type": "display_data",
          "data": {
            "text/plain": [
              "<IPython.core.display.Javascript object>"
            ],
            "application/javascript": [
              "window[\"102f5360-3f39-11ed-8317-0242ac1c0002\"] = google.colab.output.setActiveOutputArea(window[\"1013b588-3f39-11ed-8317-0242ac1c0002\"]);\n",
              "//# sourceURL=js_d9028ff869"
            ]
          },
          "metadata": {}
        },
        {
          "output_type": "display_data",
          "data": {
            "text/plain": [
              "<IPython.core.display.Javascript object>"
            ],
            "application/javascript": [
              "window[\"10cb72fe-3f39-11ed-8317-0242ac1c0002\"] = google.colab.output.getActiveOutputArea();\n",
              "//# sourceURL=js_321d7abf05"
            ]
          },
          "metadata": {}
        },
        {
          "output_type": "display_data",
          "data": {
            "text/plain": [
              "<IPython.core.display.Javascript object>"
            ],
            "application/javascript": [
              "window[\"10cbd24e-3f39-11ed-8317-0242ac1c0002\"] = document.querySelector(\"#id46-0-0\");\n",
              "//# sourceURL=js_112deb76fe"
            ]
          },
          "metadata": {}
        },
        {
          "output_type": "display_data",
          "data": {
            "text/plain": [
              "<IPython.core.display.Javascript object>"
            ],
            "application/javascript": [
              "window[\"10cc2b72-3f39-11ed-8317-0242ac1c0002\"] = google.colab.output.setActiveOutputArea(window[\"10cbd24e-3f39-11ed-8317-0242ac1c0002\"]);\n",
              "//# sourceURL=js_6dfe922da1"
            ]
          },
          "metadata": {}
        },
        {
          "output_type": "display_data",
          "data": {
            "text/plain": [
              "<IPython.core.display.Javascript object>"
            ],
            "application/javascript": [
              "window[\"10f4e666-3f39-11ed-8317-0242ac1c0002\"] = google.colab.output.setActiveOutputArea(window[\"10cb72fe-3f39-11ed-8317-0242ac1c0002\"]);\n",
              "//# sourceURL=js_ecb08835ee"
            ]
          },
          "metadata": {}
        },
        {
          "output_type": "display_data",
          "data": {
            "text/plain": [
              "<IPython.core.display.Javascript object>"
            ],
            "application/javascript": [
              "window[\"1190ee26-3f39-11ed-8317-0242ac1c0002\"] = google.colab.output.getActiveOutputArea();\n",
              "//# sourceURL=js_651c6ba13c"
            ]
          },
          "metadata": {}
        },
        {
          "output_type": "display_data",
          "data": {
            "text/plain": [
              "<IPython.core.display.Javascript object>"
            ],
            "application/javascript": [
              "window[\"11914c54-3f39-11ed-8317-0242ac1c0002\"] = document.querySelector(\"#id46-0-0\");\n",
              "//# sourceURL=js_c46fd3ffcf"
            ]
          },
          "metadata": {}
        },
        {
          "output_type": "display_data",
          "data": {
            "text/plain": [
              "<IPython.core.display.Javascript object>"
            ],
            "application/javascript": [
              "window[\"1191b4f0-3f39-11ed-8317-0242ac1c0002\"] = google.colab.output.setActiveOutputArea(window[\"11914c54-3f39-11ed-8317-0242ac1c0002\"]);\n",
              "//# sourceURL=js_3f0c977e4c"
            ]
          },
          "metadata": {}
        },
        {
          "output_type": "display_data",
          "data": {
            "text/plain": [
              "<IPython.core.display.Javascript object>"
            ],
            "application/javascript": [
              "window[\"11af0dd4-3f39-11ed-8317-0242ac1c0002\"] = google.colab.output.setActiveOutputArea(window[\"1190ee26-3f39-11ed-8317-0242ac1c0002\"]);\n",
              "//# sourceURL=js_7191b6b101"
            ]
          },
          "metadata": {}
        },
        {
          "output_type": "display_data",
          "data": {
            "text/plain": [
              "<IPython.core.display.Javascript object>"
            ],
            "application/javascript": [
              "window[\"124bda42-3f39-11ed-8317-0242ac1c0002\"] = google.colab.output.getActiveOutputArea();\n",
              "//# sourceURL=js_13a956a42f"
            ]
          },
          "metadata": {}
        },
        {
          "output_type": "display_data",
          "data": {
            "text/plain": [
              "<IPython.core.display.Javascript object>"
            ],
            "application/javascript": [
              "window[\"124c6fd4-3f39-11ed-8317-0242ac1c0002\"] = document.querySelector(\"#id46-0-0\");\n",
              "//# sourceURL=js_f11a7ccea5"
            ]
          },
          "metadata": {}
        },
        {
          "output_type": "display_data",
          "data": {
            "text/plain": [
              "<IPython.core.display.Javascript object>"
            ],
            "application/javascript": [
              "window[\"124cd4ce-3f39-11ed-8317-0242ac1c0002\"] = google.colab.output.setActiveOutputArea(window[\"124c6fd4-3f39-11ed-8317-0242ac1c0002\"]);\n",
              "//# sourceURL=js_5d7e299d2a"
            ]
          },
          "metadata": {}
        },
        {
          "output_type": "display_data",
          "data": {
            "text/plain": [
              "<IPython.core.display.Javascript object>"
            ],
            "application/javascript": [
              "window[\"12669f44-3f39-11ed-8317-0242ac1c0002\"] = google.colab.output.setActiveOutputArea(window[\"124bda42-3f39-11ed-8317-0242ac1c0002\"]);\n",
              "//# sourceURL=js_f918ada9c4"
            ]
          },
          "metadata": {}
        },
        {
          "output_type": "display_data",
          "data": {
            "text/plain": [
              "<IPython.core.display.Javascript object>"
            ],
            "application/javascript": [
              "window[\"1304046e-3f39-11ed-8317-0242ac1c0002\"] = google.colab.output.getActiveOutputArea();\n",
              "//# sourceURL=js_cc0b02f8d8"
            ]
          },
          "metadata": {}
        },
        {
          "output_type": "display_data",
          "data": {
            "text/plain": [
              "<IPython.core.display.Javascript object>"
            ],
            "application/javascript": [
              "window[\"1304a338-3f39-11ed-8317-0242ac1c0002\"] = document.querySelector(\"#id46-0-0\");\n",
              "//# sourceURL=js_56c82ea331"
            ]
          },
          "metadata": {}
        },
        {
          "output_type": "display_data",
          "data": {
            "text/plain": [
              "<IPython.core.display.Javascript object>"
            ],
            "application/javascript": [
              "window[\"13050828-3f39-11ed-8317-0242ac1c0002\"] = google.colab.output.setActiveOutputArea(window[\"1304a338-3f39-11ed-8317-0242ac1c0002\"]);\n",
              "//# sourceURL=js_9275310885"
            ]
          },
          "metadata": {}
        },
        {
          "output_type": "display_data",
          "data": {
            "text/plain": [
              "<IPython.core.display.Javascript object>"
            ],
            "application/javascript": [
              "window[\"131ee360-3f39-11ed-8317-0242ac1c0002\"] = google.colab.output.setActiveOutputArea(window[\"1304046e-3f39-11ed-8317-0242ac1c0002\"]);\n",
              "//# sourceURL=js_188b68a19a"
            ]
          },
          "metadata": {}
        },
        {
          "output_type": "display_data",
          "data": {
            "text/plain": [
              "<IPython.core.display.Javascript object>"
            ],
            "application/javascript": [
              "window[\"13b9f5b2-3f39-11ed-8317-0242ac1c0002\"] = google.colab.output.getActiveOutputArea();\n",
              "//# sourceURL=js_1ae4a09c7d"
            ]
          },
          "metadata": {}
        },
        {
          "output_type": "display_data",
          "data": {
            "text/plain": [
              "<IPython.core.display.Javascript object>"
            ],
            "application/javascript": [
              "window[\"13ba56d8-3f39-11ed-8317-0242ac1c0002\"] = document.querySelector(\"#id46-0-0\");\n",
              "//# sourceURL=js_05909deb05"
            ]
          },
          "metadata": {}
        },
        {
          "output_type": "display_data",
          "data": {
            "text/plain": [
              "<IPython.core.display.Javascript object>"
            ],
            "application/javascript": [
              "window[\"13bad3e2-3f39-11ed-8317-0242ac1c0002\"] = google.colab.output.setActiveOutputArea(window[\"13ba56d8-3f39-11ed-8317-0242ac1c0002\"]);\n",
              "//# sourceURL=js_d6c2a9251f"
            ]
          },
          "metadata": {}
        },
        {
          "output_type": "display_data",
          "data": {
            "text/plain": [
              "<IPython.core.display.Javascript object>"
            ],
            "application/javascript": [
              "window[\"13d945d4-3f39-11ed-8317-0242ac1c0002\"] = google.colab.output.setActiveOutputArea(window[\"13b9f5b2-3f39-11ed-8317-0242ac1c0002\"]);\n",
              "//# sourceURL=js_8ee9ec2d96"
            ]
          },
          "metadata": {}
        },
        {
          "output_type": "display_data",
          "data": {
            "text/plain": [
              "<IPython.core.display.Javascript object>"
            ],
            "application/javascript": [
              "window[\"147584a8-3f39-11ed-8317-0242ac1c0002\"] = google.colab.output.getActiveOutputArea();\n",
              "//# sourceURL=js_85c7497758"
            ]
          },
          "metadata": {}
        },
        {
          "output_type": "display_data",
          "data": {
            "text/plain": [
              "<IPython.core.display.Javascript object>"
            ],
            "application/javascript": [
              "window[\"1475eaba-3f39-11ed-8317-0242ac1c0002\"] = document.querySelector(\"#id46-0-0\");\n",
              "//# sourceURL=js_03bef6d604"
            ]
          },
          "metadata": {}
        },
        {
          "output_type": "display_data",
          "data": {
            "text/plain": [
              "<IPython.core.display.Javascript object>"
            ],
            "application/javascript": [
              "window[\"147692f8-3f39-11ed-8317-0242ac1c0002\"] = google.colab.output.setActiveOutputArea(window[\"1475eaba-3f39-11ed-8317-0242ac1c0002\"]);\n",
              "//# sourceURL=js_53d3dc906d"
            ]
          },
          "metadata": {}
        },
        {
          "output_type": "display_data",
          "data": {
            "text/plain": [
              "<IPython.core.display.Javascript object>"
            ],
            "application/javascript": [
              "window[\"148f057c-3f39-11ed-8317-0242ac1c0002\"] = google.colab.output.setActiveOutputArea(window[\"147584a8-3f39-11ed-8317-0242ac1c0002\"]);\n",
              "//# sourceURL=js_220407447b"
            ]
          },
          "metadata": {}
        },
        {
          "output_type": "display_data",
          "data": {
            "text/plain": [
              "<IPython.core.display.Javascript object>"
            ],
            "application/javascript": [
              "window[\"152b4c70-3f39-11ed-8317-0242ac1c0002\"] = google.colab.output.getActiveOutputArea();\n",
              "//# sourceURL=js_791d70f87e"
            ]
          },
          "metadata": {}
        },
        {
          "output_type": "display_data",
          "data": {
            "text/plain": [
              "<IPython.core.display.Javascript object>"
            ],
            "application/javascript": [
              "window[\"152bbeb2-3f39-11ed-8317-0242ac1c0002\"] = document.querySelector(\"#id46-0-0\");\n",
              "//# sourceURL=js_ef5e180a52"
            ]
          },
          "metadata": {}
        },
        {
          "output_type": "display_data",
          "data": {
            "text/plain": [
              "<IPython.core.display.Javascript object>"
            ],
            "application/javascript": [
              "window[\"152c4f6c-3f39-11ed-8317-0242ac1c0002\"] = google.colab.output.setActiveOutputArea(window[\"152bbeb2-3f39-11ed-8317-0242ac1c0002\"]);\n",
              "//# sourceURL=js_36760255f3"
            ]
          },
          "metadata": {}
        },
        {
          "output_type": "display_data",
          "data": {
            "text/plain": [
              "<IPython.core.display.Javascript object>"
            ],
            "application/javascript": [
              "window[\"1549f7e2-3f39-11ed-8317-0242ac1c0002\"] = google.colab.output.setActiveOutputArea(window[\"152b4c70-3f39-11ed-8317-0242ac1c0002\"]);\n",
              "//# sourceURL=js_daad6ee3ab"
            ]
          },
          "metadata": {}
        },
        {
          "output_type": "display_data",
          "data": {
            "text/plain": [
              "<IPython.core.display.Javascript object>"
            ],
            "application/javascript": [
              "window[\"15e6b578-3f39-11ed-8317-0242ac1c0002\"] = google.colab.output.getActiveOutputArea();\n",
              "//# sourceURL=js_b124ea609c"
            ]
          },
          "metadata": {}
        },
        {
          "output_type": "display_data",
          "data": {
            "text/plain": [
              "<IPython.core.display.Javascript object>"
            ],
            "application/javascript": [
              "window[\"15e7190a-3f39-11ed-8317-0242ac1c0002\"] = document.querySelector(\"#id46-0-0\");\n",
              "//# sourceURL=js_7472026cc0"
            ]
          },
          "metadata": {}
        },
        {
          "output_type": "display_data",
          "data": {
            "text/plain": [
              "<IPython.core.display.Javascript object>"
            ],
            "application/javascript": [
              "window[\"15e7ce86-3f39-11ed-8317-0242ac1c0002\"] = google.colab.output.setActiveOutputArea(window[\"15e7190a-3f39-11ed-8317-0242ac1c0002\"]);\n",
              "//# sourceURL=js_a9a7e39495"
            ]
          },
          "metadata": {}
        },
        {
          "output_type": "display_data",
          "data": {
            "text/plain": [
              "<IPython.core.display.Javascript object>"
            ],
            "application/javascript": [
              "window[\"16020828-3f39-11ed-8317-0242ac1c0002\"] = google.colab.output.setActiveOutputArea(window[\"15e6b578-3f39-11ed-8317-0242ac1c0002\"]);\n",
              "//# sourceURL=js_cc51730478"
            ]
          },
          "metadata": {}
        },
        {
          "output_type": "display_data",
          "data": {
            "text/plain": [
              "<IPython.core.display.Javascript object>"
            ],
            "application/javascript": [
              "window[\"169db1ce-3f39-11ed-8317-0242ac1c0002\"] = google.colab.output.getActiveOutputArea();\n",
              "//# sourceURL=js_feb03c4f71"
            ]
          },
          "metadata": {}
        },
        {
          "output_type": "display_data",
          "data": {
            "text/plain": [
              "<IPython.core.display.Javascript object>"
            ],
            "application/javascript": [
              "window[\"169e396e-3f39-11ed-8317-0242ac1c0002\"] = document.querySelector(\"#id46-0-0\");\n",
              "//# sourceURL=js_656d5578df"
            ]
          },
          "metadata": {}
        },
        {
          "output_type": "display_data",
          "data": {
            "text/plain": [
              "<IPython.core.display.Javascript object>"
            ],
            "application/javascript": [
              "window[\"169eb1be-3f39-11ed-8317-0242ac1c0002\"] = google.colab.output.setActiveOutputArea(window[\"169e396e-3f39-11ed-8317-0242ac1c0002\"]);\n",
              "//# sourceURL=js_34c2252b55"
            ]
          },
          "metadata": {}
        },
        {
          "output_type": "display_data",
          "data": {
            "text/plain": [
              "<IPython.core.display.Javascript object>"
            ],
            "application/javascript": [
              "window[\"16b8a2ae-3f39-11ed-8317-0242ac1c0002\"] = google.colab.output.setActiveOutputArea(window[\"169db1ce-3f39-11ed-8317-0242ac1c0002\"]);\n",
              "//# sourceURL=js_5407f20ed3"
            ]
          },
          "metadata": {}
        },
        {
          "output_type": "display_data",
          "data": {
            "text/plain": [
              "<IPython.core.display.Javascript object>"
            ],
            "application/javascript": [
              "window[\"175474e0-3f39-11ed-8317-0242ac1c0002\"] = google.colab.output.getActiveOutputArea();\n",
              "//# sourceURL=js_ae940e7fad"
            ]
          },
          "metadata": {}
        },
        {
          "output_type": "display_data",
          "data": {
            "text/plain": [
              "<IPython.core.display.Javascript object>"
            ],
            "application/javascript": [
              "window[\"17550b26-3f39-11ed-8317-0242ac1c0002\"] = document.querySelector(\"#id46-0-0\");\n",
              "//# sourceURL=js_cf662248a3"
            ]
          },
          "metadata": {}
        },
        {
          "output_type": "display_data",
          "data": {
            "text/plain": [
              "<IPython.core.display.Javascript object>"
            ],
            "application/javascript": [
              "window[\"17558c90-3f39-11ed-8317-0242ac1c0002\"] = google.colab.output.setActiveOutputArea(window[\"17550b26-3f39-11ed-8317-0242ac1c0002\"]);\n",
              "//# sourceURL=js_7099632425"
            ]
          },
          "metadata": {}
        },
        {
          "output_type": "display_data",
          "data": {
            "text/plain": [
              "<IPython.core.display.Javascript object>"
            ],
            "application/javascript": [
              "window[\"176f7614-3f39-11ed-8317-0242ac1c0002\"] = google.colab.output.setActiveOutputArea(window[\"175474e0-3f39-11ed-8317-0242ac1c0002\"]);\n",
              "//# sourceURL=js_66f524560a"
            ]
          },
          "metadata": {}
        },
        {
          "output_type": "display_data",
          "data": {
            "text/plain": [
              "<IPython.core.display.Javascript object>"
            ],
            "application/javascript": [
              "window[\"180c28e2-3f39-11ed-8317-0242ac1c0002\"] = google.colab.output.getActiveOutputArea();\n",
              "//# sourceURL=js_24daf7ca30"
            ]
          },
          "metadata": {}
        },
        {
          "output_type": "display_data",
          "data": {
            "text/plain": [
              "<IPython.core.display.Javascript object>"
            ],
            "application/javascript": [
              "window[\"180c9106-3f39-11ed-8317-0242ac1c0002\"] = document.querySelector(\"#id46-0-0\");\n",
              "//# sourceURL=js_001ccf8437"
            ]
          },
          "metadata": {}
        },
        {
          "output_type": "display_data",
          "data": {
            "text/plain": [
              "<IPython.core.display.Javascript object>"
            ],
            "application/javascript": [
              "window[\"180d032a-3f39-11ed-8317-0242ac1c0002\"] = google.colab.output.setActiveOutputArea(window[\"180c9106-3f39-11ed-8317-0242ac1c0002\"]);\n",
              "//# sourceURL=js_1823935752"
            ]
          },
          "metadata": {}
        },
        {
          "output_type": "display_data",
          "data": {
            "text/plain": [
              "<IPython.core.display.Javascript object>"
            ],
            "application/javascript": [
              "window[\"1827c264-3f39-11ed-8317-0242ac1c0002\"] = google.colab.output.setActiveOutputArea(window[\"180c28e2-3f39-11ed-8317-0242ac1c0002\"]);\n",
              "//# sourceURL=js_ac9b06f279"
            ]
          },
          "metadata": {}
        },
        {
          "output_type": "display_data",
          "data": {
            "text/plain": [
              "<IPython.core.display.Javascript object>"
            ],
            "application/javascript": [
              "window[\"18c3bfe8-3f39-11ed-8317-0242ac1c0002\"] = google.colab.output.getActiveOutputArea();\n",
              "//# sourceURL=js_53a85ff61f"
            ]
          },
          "metadata": {}
        },
        {
          "output_type": "display_data",
          "data": {
            "text/plain": [
              "<IPython.core.display.Javascript object>"
            ],
            "application/javascript": [
              "window[\"18c46f74-3f39-11ed-8317-0242ac1c0002\"] = document.querySelector(\"#id46-0-0\");\n",
              "//# sourceURL=js_244ab2b63d"
            ]
          },
          "metadata": {}
        },
        {
          "output_type": "display_data",
          "data": {
            "text/plain": [
              "<IPython.core.display.Javascript object>"
            ],
            "application/javascript": [
              "window[\"18c4ee0e-3f39-11ed-8317-0242ac1c0002\"] = google.colab.output.setActiveOutputArea(window[\"18c46f74-3f39-11ed-8317-0242ac1c0002\"]);\n",
              "//# sourceURL=js_a751f2a7ae"
            ]
          },
          "metadata": {}
        },
        {
          "output_type": "display_data",
          "data": {
            "text/plain": [
              "<IPython.core.display.Javascript object>"
            ],
            "application/javascript": [
              "window[\"18ed8396-3f39-11ed-8317-0242ac1c0002\"] = google.colab.output.setActiveOutputArea(window[\"18c3bfe8-3f39-11ed-8317-0242ac1c0002\"]);\n",
              "//# sourceURL=js_e50df1e7ef"
            ]
          },
          "metadata": {}
        },
        {
          "output_type": "display_data",
          "data": {
            "text/plain": [
              "<IPython.core.display.Javascript object>"
            ],
            "application/javascript": [
              "window[\"19895fe6-3f39-11ed-8317-0242ac1c0002\"] = google.colab.output.getActiveOutputArea();\n",
              "//# sourceURL=js_8da6400c67"
            ]
          },
          "metadata": {}
        },
        {
          "output_type": "display_data",
          "data": {
            "text/plain": [
              "<IPython.core.display.Javascript object>"
            ],
            "application/javascript": [
              "window[\"1989dea8-3f39-11ed-8317-0242ac1c0002\"] = document.querySelector(\"#id46-0-0\");\n",
              "//# sourceURL=js_bf532c4704"
            ]
          },
          "metadata": {}
        },
        {
          "output_type": "display_data",
          "data": {
            "text/plain": [
              "<IPython.core.display.Javascript object>"
            ],
            "application/javascript": [
              "window[\"198a5216-3f39-11ed-8317-0242ac1c0002\"] = google.colab.output.setActiveOutputArea(window[\"1989dea8-3f39-11ed-8317-0242ac1c0002\"]);\n",
              "//# sourceURL=js_4fc279b81b"
            ]
          },
          "metadata": {}
        },
        {
          "output_type": "display_data",
          "data": {
            "text/plain": [
              "<IPython.core.display.Javascript object>"
            ],
            "application/javascript": [
              "window[\"19a3bcba-3f39-11ed-8317-0242ac1c0002\"] = google.colab.output.setActiveOutputArea(window[\"19895fe6-3f39-11ed-8317-0242ac1c0002\"]);\n",
              "//# sourceURL=js_527720d681"
            ]
          },
          "metadata": {}
        },
        {
          "output_type": "display_data",
          "data": {
            "text/plain": [
              "<IPython.core.display.Javascript object>"
            ],
            "application/javascript": [
              "window[\"1a41f18c-3f39-11ed-8317-0242ac1c0002\"] = google.colab.output.getActiveOutputArea();\n",
              "//# sourceURL=js_c9aede560d"
            ]
          },
          "metadata": {}
        },
        {
          "output_type": "display_data",
          "data": {
            "text/plain": [
              "<IPython.core.display.Javascript object>"
            ],
            "application/javascript": [
              "window[\"1a4266f8-3f39-11ed-8317-0242ac1c0002\"] = document.querySelector(\"#id46-0-0\");\n",
              "//# sourceURL=js_a87260ce02"
            ]
          },
          "metadata": {}
        },
        {
          "output_type": "display_data",
          "data": {
            "text/plain": [
              "<IPython.core.display.Javascript object>"
            ],
            "application/javascript": [
              "window[\"1a42c6fc-3f39-11ed-8317-0242ac1c0002\"] = google.colab.output.setActiveOutputArea(window[\"1a4266f8-3f39-11ed-8317-0242ac1c0002\"]);\n",
              "//# sourceURL=js_79544563d0"
            ]
          },
          "metadata": {}
        },
        {
          "output_type": "display_data",
          "data": {
            "text/plain": [
              "<IPython.core.display.Javascript object>"
            ],
            "application/javascript": [
              "window[\"1a5bb716-3f39-11ed-8317-0242ac1c0002\"] = google.colab.output.setActiveOutputArea(window[\"1a41f18c-3f39-11ed-8317-0242ac1c0002\"]);\n",
              "//# sourceURL=js_80eeef1b0a"
            ]
          },
          "metadata": {}
        },
        {
          "output_type": "display_data",
          "data": {
            "text/plain": [
              "<IPython.core.display.Javascript object>"
            ],
            "application/javascript": [
              "window[\"1af8cda8-3f39-11ed-8317-0242ac1c0002\"] = google.colab.output.getActiveOutputArea();\n",
              "//# sourceURL=js_9901a0dcbb"
            ]
          },
          "metadata": {}
        },
        {
          "output_type": "display_data",
          "data": {
            "text/plain": [
              "<IPython.core.display.Javascript object>"
            ],
            "application/javascript": [
              "window[\"1af92a14-3f39-11ed-8317-0242ac1c0002\"] = document.querySelector(\"#id46-0-0\");\n",
              "//# sourceURL=js_ac928a4cc3"
            ]
          },
          "metadata": {}
        },
        {
          "output_type": "display_data",
          "data": {
            "text/plain": [
              "<IPython.core.display.Javascript object>"
            ],
            "application/javascript": [
              "window[\"1af98496-3f39-11ed-8317-0242ac1c0002\"] = google.colab.output.setActiveOutputArea(window[\"1af92a14-3f39-11ed-8317-0242ac1c0002\"]);\n",
              "//# sourceURL=js_2b20fdb9d3"
            ]
          },
          "metadata": {}
        },
        {
          "output_type": "display_data",
          "data": {
            "text/plain": [
              "<IPython.core.display.Javascript object>"
            ],
            "application/javascript": [
              "window[\"1b16a72e-3f39-11ed-8317-0242ac1c0002\"] = google.colab.output.setActiveOutputArea(window[\"1af8cda8-3f39-11ed-8317-0242ac1c0002\"]);\n",
              "//# sourceURL=js_c7ee31f82d"
            ]
          },
          "metadata": {}
        },
        {
          "output_type": "display_data",
          "data": {
            "text/plain": [
              "<IPython.core.display.Javascript object>"
            ],
            "application/javascript": [
              "window[\"1bb33012-3f39-11ed-8317-0242ac1c0002\"] = google.colab.output.getActiveOutputArea();\n",
              "//# sourceURL=js_3b01de9750"
            ]
          },
          "metadata": {}
        },
        {
          "output_type": "display_data",
          "data": {
            "text/plain": [
              "<IPython.core.display.Javascript object>"
            ],
            "application/javascript": [
              "window[\"1bb392d2-3f39-11ed-8317-0242ac1c0002\"] = document.querySelector(\"#id46-0-0\");\n",
              "//# sourceURL=js_d17413c17b"
            ]
          },
          "metadata": {}
        },
        {
          "output_type": "display_data",
          "data": {
            "text/plain": [
              "<IPython.core.display.Javascript object>"
            ],
            "application/javascript": [
              "window[\"1bb432be-3f39-11ed-8317-0242ac1c0002\"] = google.colab.output.setActiveOutputArea(window[\"1bb392d2-3f39-11ed-8317-0242ac1c0002\"]);\n",
              "//# sourceURL=js_dc745328c5"
            ]
          },
          "metadata": {}
        },
        {
          "output_type": "display_data",
          "data": {
            "text/plain": [
              "<IPython.core.display.Javascript object>"
            ],
            "application/javascript": [
              "window[\"1bd2131a-3f39-11ed-8317-0242ac1c0002\"] = google.colab.output.setActiveOutputArea(window[\"1bb33012-3f39-11ed-8317-0242ac1c0002\"]);\n",
              "//# sourceURL=js_76684bbcc9"
            ]
          },
          "metadata": {}
        },
        {
          "output_type": "display_data",
          "data": {
            "text/plain": [
              "<IPython.core.display.Javascript object>"
            ],
            "application/javascript": [
              "window[\"1c6e0928-3f39-11ed-8317-0242ac1c0002\"] = google.colab.output.getActiveOutputArea();\n",
              "//# sourceURL=js_9b7d019405"
            ]
          },
          "metadata": {}
        },
        {
          "output_type": "display_data",
          "data": {
            "text/plain": [
              "<IPython.core.display.Javascript object>"
            ],
            "application/javascript": [
              "window[\"1c6e8178-3f39-11ed-8317-0242ac1c0002\"] = document.querySelector(\"#id46-0-0\");\n",
              "//# sourceURL=js_56c29960a9"
            ]
          },
          "metadata": {}
        },
        {
          "output_type": "display_data",
          "data": {
            "text/plain": [
              "<IPython.core.display.Javascript object>"
            ],
            "application/javascript": [
              "window[\"1c6f259c-3f39-11ed-8317-0242ac1c0002\"] = google.colab.output.setActiveOutputArea(window[\"1c6e8178-3f39-11ed-8317-0242ac1c0002\"]);\n",
              "//# sourceURL=js_a9a1765b7d"
            ]
          },
          "metadata": {}
        },
        {
          "output_type": "display_data",
          "data": {
            "text/plain": [
              "<IPython.core.display.Javascript object>"
            ],
            "application/javascript": [
              "window[\"1c8a6fe6-3f39-11ed-8317-0242ac1c0002\"] = google.colab.output.setActiveOutputArea(window[\"1c6e0928-3f39-11ed-8317-0242ac1c0002\"]);\n",
              "//# sourceURL=js_f600140941"
            ]
          },
          "metadata": {}
        },
        {
          "output_type": "display_data",
          "data": {
            "text/plain": [
              "<IPython.core.display.Javascript object>"
            ],
            "application/javascript": [
              "window[\"1d268962-3f39-11ed-8317-0242ac1c0002\"] = google.colab.output.getActiveOutputArea();\n",
              "//# sourceURL=js_d13c8f50df"
            ]
          },
          "metadata": {}
        },
        {
          "output_type": "display_data",
          "data": {
            "text/plain": [
              "<IPython.core.display.Javascript object>"
            ],
            "application/javascript": [
              "window[\"1d27140e-3f39-11ed-8317-0242ac1c0002\"] = document.querySelector(\"#id46-0-0\");\n",
              "//# sourceURL=js_d27bc73fdd"
            ]
          },
          "metadata": {}
        },
        {
          "output_type": "display_data",
          "data": {
            "text/plain": [
              "<IPython.core.display.Javascript object>"
            ],
            "application/javascript": [
              "window[\"1d27723c-3f39-11ed-8317-0242ac1c0002\"] = google.colab.output.setActiveOutputArea(window[\"1d27140e-3f39-11ed-8317-0242ac1c0002\"]);\n",
              "//# sourceURL=js_99a77780ff"
            ]
          },
          "metadata": {}
        },
        {
          "output_type": "display_data",
          "data": {
            "text/plain": [
              "<IPython.core.display.Javascript object>"
            ],
            "application/javascript": [
              "window[\"1d41cdbc-3f39-11ed-8317-0242ac1c0002\"] = google.colab.output.setActiveOutputArea(window[\"1d268962-3f39-11ed-8317-0242ac1c0002\"]);\n",
              "//# sourceURL=js_f99f01d05d"
            ]
          },
          "metadata": {}
        },
        {
          "output_type": "display_data",
          "data": {
            "text/plain": [
              "<IPython.core.display.Javascript object>"
            ],
            "application/javascript": [
              "window[\"1dde209a-3f39-11ed-8317-0242ac1c0002\"] = google.colab.output.getActiveOutputArea();\n",
              "//# sourceURL=js_8337129aa0"
            ]
          },
          "metadata": {}
        },
        {
          "output_type": "display_data",
          "data": {
            "text/plain": [
              "<IPython.core.display.Javascript object>"
            ],
            "application/javascript": [
              "window[\"1dde8774-3f39-11ed-8317-0242ac1c0002\"] = document.querySelector(\"#id46-0-0\");\n",
              "//# sourceURL=js_048bb519cb"
            ]
          },
          "metadata": {}
        },
        {
          "output_type": "display_data",
          "data": {
            "text/plain": [
              "<IPython.core.display.Javascript object>"
            ],
            "application/javascript": [
              "window[\"1ddf088e-3f39-11ed-8317-0242ac1c0002\"] = google.colab.output.setActiveOutputArea(window[\"1dde8774-3f39-11ed-8317-0242ac1c0002\"]);\n",
              "//# sourceURL=js_e7fd8de945"
            ]
          },
          "metadata": {}
        },
        {
          "output_type": "display_data",
          "data": {
            "text/plain": [
              "<IPython.core.display.Javascript object>"
            ],
            "application/javascript": [
              "window[\"1dfbc6d6-3f39-11ed-8317-0242ac1c0002\"] = google.colab.output.setActiveOutputArea(window[\"1dde209a-3f39-11ed-8317-0242ac1c0002\"]);\n",
              "//# sourceURL=js_36cc140e4b"
            ]
          },
          "metadata": {}
        },
        {
          "output_type": "display_data",
          "data": {
            "text/plain": [
              "<IPython.core.display.Javascript object>"
            ],
            "application/javascript": [
              "window[\"1e977194-3f39-11ed-8317-0242ac1c0002\"] = google.colab.output.getActiveOutputArea();\n",
              "//# sourceURL=js_946d5fea7e"
            ]
          },
          "metadata": {}
        },
        {
          "output_type": "display_data",
          "data": {
            "text/plain": [
              "<IPython.core.display.Javascript object>"
            ],
            "application/javascript": [
              "window[\"1e97d44a-3f39-11ed-8317-0242ac1c0002\"] = document.querySelector(\"#id46-0-0\");\n",
              "//# sourceURL=js_5a25bdbdb2"
            ]
          },
          "metadata": {}
        },
        {
          "output_type": "display_data",
          "data": {
            "text/plain": [
              "<IPython.core.display.Javascript object>"
            ],
            "application/javascript": [
              "window[\"1e982a44-3f39-11ed-8317-0242ac1c0002\"] = google.colab.output.setActiveOutputArea(window[\"1e97d44a-3f39-11ed-8317-0242ac1c0002\"]);\n",
              "//# sourceURL=js_2835d142ab"
            ]
          },
          "metadata": {}
        },
        {
          "output_type": "display_data",
          "data": {
            "text/plain": [
              "<IPython.core.display.Javascript object>"
            ],
            "application/javascript": [
              "window[\"1eb60280-3f39-11ed-8317-0242ac1c0002\"] = google.colab.output.setActiveOutputArea(window[\"1e977194-3f39-11ed-8317-0242ac1c0002\"]);\n",
              "//# sourceURL=js_ca89eb493c"
            ]
          },
          "metadata": {}
        },
        {
          "output_type": "display_data",
          "data": {
            "text/plain": [
              "<IPython.core.display.Javascript object>"
            ],
            "application/javascript": [
              "window[\"1f51b13a-3f39-11ed-8317-0242ac1c0002\"] = google.colab.output.getActiveOutputArea();\n",
              "//# sourceURL=js_6acc5b0bd0"
            ]
          },
          "metadata": {}
        },
        {
          "output_type": "display_data",
          "data": {
            "text/plain": [
              "<IPython.core.display.Javascript object>"
            ],
            "application/javascript": [
              "window[\"1f5210d0-3f39-11ed-8317-0242ac1c0002\"] = document.querySelector(\"#id46-0-0\");\n",
              "//# sourceURL=js_ecd6b5817e"
            ]
          },
          "metadata": {}
        },
        {
          "output_type": "display_data",
          "data": {
            "text/plain": [
              "<IPython.core.display.Javascript object>"
            ],
            "application/javascript": [
              "window[\"1f526d32-3f39-11ed-8317-0242ac1c0002\"] = google.colab.output.setActiveOutputArea(window[\"1f5210d0-3f39-11ed-8317-0242ac1c0002\"]);\n",
              "//# sourceURL=js_9de44393a2"
            ]
          },
          "metadata": {}
        },
        {
          "output_type": "display_data",
          "data": {
            "text/plain": [
              "<IPython.core.display.Javascript object>"
            ],
            "application/javascript": [
              "window[\"1f6de602-3f39-11ed-8317-0242ac1c0002\"] = google.colab.output.setActiveOutputArea(window[\"1f51b13a-3f39-11ed-8317-0242ac1c0002\"]);\n",
              "//# sourceURL=js_95ef7a8f97"
            ]
          },
          "metadata": {}
        },
        {
          "output_type": "display_data",
          "data": {
            "text/plain": [
              "<IPython.core.display.Javascript object>"
            ],
            "application/javascript": [
              "window[\"2009538a-3f39-11ed-8317-0242ac1c0002\"] = google.colab.output.getActiveOutputArea();\n",
              "//# sourceURL=js_ccfab55f51"
            ]
          },
          "metadata": {}
        },
        {
          "output_type": "display_data",
          "data": {
            "text/plain": [
              "<IPython.core.display.Javascript object>"
            ],
            "application/javascript": [
              "window[\"2009b186-3f39-11ed-8317-0242ac1c0002\"] = document.querySelector(\"#id46-0-0\");\n",
              "//# sourceURL=js_8bc7168694"
            ]
          },
          "metadata": {}
        },
        {
          "output_type": "display_data",
          "data": {
            "text/plain": [
              "<IPython.core.display.Javascript object>"
            ],
            "application/javascript": [
              "window[\"200a1022-3f39-11ed-8317-0242ac1c0002\"] = google.colab.output.setActiveOutputArea(window[\"2009b186-3f39-11ed-8317-0242ac1c0002\"]);\n",
              "//# sourceURL=js_4cc14eab3f"
            ]
          },
          "metadata": {}
        },
        {
          "output_type": "display_data",
          "data": {
            "text/plain": [
              "<IPython.core.display.Javascript object>"
            ],
            "application/javascript": [
              "window[\"20251a8e-3f39-11ed-8317-0242ac1c0002\"] = google.colab.output.setActiveOutputArea(window[\"2009538a-3f39-11ed-8317-0242ac1c0002\"]);\n",
              "//# sourceURL=js_6037a8f573"
            ]
          },
          "metadata": {}
        },
        {
          "output_type": "display_data",
          "data": {
            "text/plain": [
              "<IPython.core.display.Javascript object>"
            ],
            "application/javascript": [
              "window[\"20c0bf5c-3f39-11ed-8317-0242ac1c0002\"] = google.colab.output.getActiveOutputArea();\n",
              "//# sourceURL=js_53184b19a5"
            ]
          },
          "metadata": {}
        },
        {
          "output_type": "display_data",
          "data": {
            "text/plain": [
              "<IPython.core.display.Javascript object>"
            ],
            "application/javascript": [
              "window[\"20c1235c-3f39-11ed-8317-0242ac1c0002\"] = document.querySelector(\"#id46-0-0\");\n",
              "//# sourceURL=js_79598a6264"
            ]
          },
          "metadata": {}
        },
        {
          "output_type": "display_data",
          "data": {
            "text/plain": [
              "<IPython.core.display.Javascript object>"
            ],
            "application/javascript": [
              "window[\"20c2ad4e-3f39-11ed-8317-0242ac1c0002\"] = google.colab.output.setActiveOutputArea(window[\"20c1235c-3f39-11ed-8317-0242ac1c0002\"]);\n",
              "//# sourceURL=js_fc4bc456d4"
            ]
          },
          "metadata": {}
        },
        {
          "output_type": "display_data",
          "data": {
            "text/plain": [
              "<IPython.core.display.Javascript object>"
            ],
            "application/javascript": [
              "window[\"20ea0fe2-3f39-11ed-8317-0242ac1c0002\"] = google.colab.output.setActiveOutputArea(window[\"20c0bf5c-3f39-11ed-8317-0242ac1c0002\"]);\n",
              "//# sourceURL=js_6801da73b7"
            ]
          },
          "metadata": {}
        },
        {
          "output_type": "display_data",
          "data": {
            "text/plain": [
              "<IPython.core.display.Javascript object>"
            ],
            "application/javascript": [
              "window[\"2188bffc-3f39-11ed-8317-0242ac1c0002\"] = google.colab.output.getActiveOutputArea();\n",
              "//# sourceURL=js_1b765c3bb3"
            ]
          },
          "metadata": {}
        },
        {
          "output_type": "display_data",
          "data": {
            "text/plain": [
              "<IPython.core.display.Javascript object>"
            ],
            "application/javascript": [
              "window[\"21896420-3f39-11ed-8317-0242ac1c0002\"] = document.querySelector(\"#id46-0-0\");\n",
              "//# sourceURL=js_d14cd30839"
            ]
          },
          "metadata": {}
        },
        {
          "output_type": "display_data",
          "data": {
            "text/plain": [
              "<IPython.core.display.Javascript object>"
            ],
            "application/javascript": [
              "window[\"2189ed50-3f39-11ed-8317-0242ac1c0002\"] = google.colab.output.setActiveOutputArea(window[\"21896420-3f39-11ed-8317-0242ac1c0002\"]);\n",
              "//# sourceURL=js_2dae698efc"
            ]
          },
          "metadata": {}
        },
        {
          "output_type": "display_data",
          "data": {
            "text/plain": [
              "<IPython.core.display.Javascript object>"
            ],
            "application/javascript": [
              "window[\"21a4a672-3f39-11ed-8317-0242ac1c0002\"] = google.colab.output.setActiveOutputArea(window[\"2188bffc-3f39-11ed-8317-0242ac1c0002\"]);\n",
              "//# sourceURL=js_da4696cd71"
            ]
          },
          "metadata": {}
        },
        {
          "output_type": "display_data",
          "data": {
            "text/plain": [
              "<IPython.core.display.Javascript object>"
            ],
            "application/javascript": [
              "window[\"224069ae-3f39-11ed-8317-0242ac1c0002\"] = google.colab.output.getActiveOutputArea();\n",
              "//# sourceURL=js_248dfd8a44"
            ]
          },
          "metadata": {}
        },
        {
          "output_type": "display_data",
          "data": {
            "text/plain": [
              "<IPython.core.display.Javascript object>"
            ],
            "application/javascript": [
              "window[\"2240e0d2-3f39-11ed-8317-0242ac1c0002\"] = document.querySelector(\"#id46-0-0\");\n",
              "//# sourceURL=js_19812e6e27"
            ]
          },
          "metadata": {}
        },
        {
          "output_type": "display_data",
          "data": {
            "text/plain": [
              "<IPython.core.display.Javascript object>"
            ],
            "application/javascript": [
              "window[\"2241aa3a-3f39-11ed-8317-0242ac1c0002\"] = google.colab.output.setActiveOutputArea(window[\"2240e0d2-3f39-11ed-8317-0242ac1c0002\"]);\n",
              "//# sourceURL=js_5a7a0369f0"
            ]
          },
          "metadata": {}
        },
        {
          "output_type": "display_data",
          "data": {
            "text/plain": [
              "<IPython.core.display.Javascript object>"
            ],
            "application/javascript": [
              "window[\"225e72c8-3f39-11ed-8317-0242ac1c0002\"] = google.colab.output.setActiveOutputArea(window[\"224069ae-3f39-11ed-8317-0242ac1c0002\"]);\n",
              "//# sourceURL=js_28ee770958"
            ]
          },
          "metadata": {}
        },
        {
          "output_type": "display_data",
          "data": {
            "text/plain": [
              "<IPython.core.display.Javascript object>"
            ],
            "application/javascript": [
              "window[\"22fbfaf2-3f39-11ed-8317-0242ac1c0002\"] = google.colab.output.getActiveOutputArea();\n",
              "//# sourceURL=js_afb86f9d1b"
            ]
          },
          "metadata": {}
        },
        {
          "output_type": "display_data",
          "data": {
            "text/plain": [
              "<IPython.core.display.Javascript object>"
            ],
            "application/javascript": [
              "window[\"22fc71c6-3f39-11ed-8317-0242ac1c0002\"] = document.querySelector(\"#id46-0-0\");\n",
              "//# sourceURL=js_73ce61144c"
            ]
          },
          "metadata": {}
        },
        {
          "output_type": "display_data",
          "data": {
            "text/plain": [
              "<IPython.core.display.Javascript object>"
            ],
            "application/javascript": [
              "window[\"22fcd012-3f39-11ed-8317-0242ac1c0002\"] = google.colab.output.setActiveOutputArea(window[\"22fc71c6-3f39-11ed-8317-0242ac1c0002\"]);\n",
              "//# sourceURL=js_f580385d13"
            ]
          },
          "metadata": {}
        },
        {
          "output_type": "display_data",
          "data": {
            "text/plain": [
              "<IPython.core.display.Javascript object>"
            ],
            "application/javascript": [
              "window[\"2317455a-3f39-11ed-8317-0242ac1c0002\"] = google.colab.output.setActiveOutputArea(window[\"22fbfaf2-3f39-11ed-8317-0242ac1c0002\"]);\n",
              "//# sourceURL=js_ed4b3a4a24"
            ]
          },
          "metadata": {}
        },
        {
          "output_type": "display_data",
          "data": {
            "text/plain": [
              "<IPython.core.display.Javascript object>"
            ],
            "application/javascript": [
              "window[\"23b4a6a6-3f39-11ed-8317-0242ac1c0002\"] = google.colab.output.getActiveOutputArea();\n",
              "//# sourceURL=js_516defd271"
            ]
          },
          "metadata": {}
        },
        {
          "output_type": "display_data",
          "data": {
            "text/plain": [
              "<IPython.core.display.Javascript object>"
            ],
            "application/javascript": [
              "window[\"23b506be-3f39-11ed-8317-0242ac1c0002\"] = document.querySelector(\"#id46-0-0\");\n",
              "//# sourceURL=js_80c5c5ccd6"
            ]
          },
          "metadata": {}
        },
        {
          "output_type": "display_data",
          "data": {
            "text/plain": [
              "<IPython.core.display.Javascript object>"
            ],
            "application/javascript": [
              "window[\"23b5746e-3f39-11ed-8317-0242ac1c0002\"] = google.colab.output.setActiveOutputArea(window[\"23b506be-3f39-11ed-8317-0242ac1c0002\"]);\n",
              "//# sourceURL=js_88819ffa6f"
            ]
          },
          "metadata": {}
        },
        {
          "output_type": "display_data",
          "data": {
            "text/plain": [
              "<IPython.core.display.Javascript object>"
            ],
            "application/javascript": [
              "window[\"23d07c8c-3f39-11ed-8317-0242ac1c0002\"] = google.colab.output.setActiveOutputArea(window[\"23b4a6a6-3f39-11ed-8317-0242ac1c0002\"]);\n",
              "//# sourceURL=js_b84a2c2443"
            ]
          },
          "metadata": {}
        },
        {
          "output_type": "display_data",
          "data": {
            "text/plain": [
              "<IPython.core.display.Javascript object>"
            ],
            "application/javascript": [
              "window[\"246d9846-3f39-11ed-8317-0242ac1c0002\"] = google.colab.output.getActiveOutputArea();\n",
              "//# sourceURL=js_dd5053822b"
            ]
          },
          "metadata": {}
        },
        {
          "output_type": "display_data",
          "data": {
            "text/plain": [
              "<IPython.core.display.Javascript object>"
            ],
            "application/javascript": [
              "window[\"246ea218-3f39-11ed-8317-0242ac1c0002\"] = document.querySelector(\"#id46-0-0\");\n",
              "//# sourceURL=js_2e156373ba"
            ]
          },
          "metadata": {}
        },
        {
          "output_type": "display_data",
          "data": {
            "text/plain": [
              "<IPython.core.display.Javascript object>"
            ],
            "application/javascript": [
              "window[\"246f25ee-3f39-11ed-8317-0242ac1c0002\"] = google.colab.output.setActiveOutputArea(window[\"246ea218-3f39-11ed-8317-0242ac1c0002\"]);\n",
              "//# sourceURL=js_89ee442a7f"
            ]
          },
          "metadata": {}
        },
        {
          "output_type": "display_data",
          "data": {
            "text/plain": [
              "<IPython.core.display.Javascript object>"
            ],
            "application/javascript": [
              "window[\"248aedc4-3f39-11ed-8317-0242ac1c0002\"] = google.colab.output.setActiveOutputArea(window[\"246d9846-3f39-11ed-8317-0242ac1c0002\"]);\n",
              "//# sourceURL=js_a6d7c0542f"
            ]
          },
          "metadata": {}
        },
        {
          "output_type": "display_data",
          "data": {
            "text/plain": [
              "<IPython.core.display.Javascript object>"
            ],
            "application/javascript": [
              "window[\"2526d05e-3f39-11ed-8317-0242ac1c0002\"] = google.colab.output.getActiveOutputArea();\n",
              "//# sourceURL=js_baffef8607"
            ]
          },
          "metadata": {}
        },
        {
          "output_type": "display_data",
          "data": {
            "text/plain": [
              "<IPython.core.display.Javascript object>"
            ],
            "application/javascript": [
              "window[\"25273436-3f39-11ed-8317-0242ac1c0002\"] = document.querySelector(\"#id46-0-0\");\n",
              "//# sourceURL=js_2cbc79dcc2"
            ]
          },
          "metadata": {}
        },
        {
          "output_type": "display_data",
          "data": {
            "text/plain": [
              "<IPython.core.display.Javascript object>"
            ],
            "application/javascript": [
              "window[\"2527c31a-3f39-11ed-8317-0242ac1c0002\"] = google.colab.output.setActiveOutputArea(window[\"25273436-3f39-11ed-8317-0242ac1c0002\"]);\n",
              "//# sourceURL=js_ff1fcabb6a"
            ]
          },
          "metadata": {}
        },
        {
          "output_type": "display_data",
          "data": {
            "text/plain": [
              "<IPython.core.display.Javascript object>"
            ],
            "application/javascript": [
              "window[\"254286e6-3f39-11ed-8317-0242ac1c0002\"] = google.colab.output.setActiveOutputArea(window[\"2526d05e-3f39-11ed-8317-0242ac1c0002\"]);\n",
              "//# sourceURL=js_046ffa770b"
            ]
          },
          "metadata": {}
        },
        {
          "output_type": "display_data",
          "data": {
            "text/plain": [
              "<IPython.core.display.Javascript object>"
            ],
            "application/javascript": [
              "window[\"25e05998-3f39-11ed-8317-0242ac1c0002\"] = google.colab.output.getActiveOutputArea();\n",
              "//# sourceURL=js_9fe377ec73"
            ]
          },
          "metadata": {}
        },
        {
          "output_type": "display_data",
          "data": {
            "text/plain": [
              "<IPython.core.display.Javascript object>"
            ],
            "application/javascript": [
              "window[\"25e0c6bc-3f39-11ed-8317-0242ac1c0002\"] = document.querySelector(\"#id46-0-0\");\n",
              "//# sourceURL=js_35b094cba6"
            ]
          },
          "metadata": {}
        },
        {
          "output_type": "display_data",
          "data": {
            "text/plain": [
              "<IPython.core.display.Javascript object>"
            ],
            "application/javascript": [
              "window[\"25e16a18-3f39-11ed-8317-0242ac1c0002\"] = google.colab.output.setActiveOutputArea(window[\"25e0c6bc-3f39-11ed-8317-0242ac1c0002\"]);\n",
              "//# sourceURL=js_b9743ccdf9"
            ]
          },
          "metadata": {}
        },
        {
          "output_type": "display_data",
          "data": {
            "text/plain": [
              "<IPython.core.display.Javascript object>"
            ],
            "application/javascript": [
              "window[\"25ff6270-3f39-11ed-8317-0242ac1c0002\"] = google.colab.output.setActiveOutputArea(window[\"25e05998-3f39-11ed-8317-0242ac1c0002\"]);\n",
              "//# sourceURL=js_46710430e7"
            ]
          },
          "metadata": {}
        },
        {
          "output_type": "display_data",
          "data": {
            "text/plain": [
              "<IPython.core.display.Javascript object>"
            ],
            "application/javascript": [
              "window[\"269c4a04-3f39-11ed-8317-0242ac1c0002\"] = google.colab.output.getActiveOutputArea();\n",
              "//# sourceURL=js_9d0cb0668f"
            ]
          },
          "metadata": {}
        },
        {
          "output_type": "display_data",
          "data": {
            "text/plain": [
              "<IPython.core.display.Javascript object>"
            ],
            "application/javascript": [
              "window[\"269ce2ca-3f39-11ed-8317-0242ac1c0002\"] = document.querySelector(\"#id46-0-0\");\n",
              "//# sourceURL=js_0fffccdfa3"
            ]
          },
          "metadata": {}
        },
        {
          "output_type": "display_data",
          "data": {
            "text/plain": [
              "<IPython.core.display.Javascript object>"
            ],
            "application/javascript": [
              "window[\"269d69b6-3f39-11ed-8317-0242ac1c0002\"] = google.colab.output.setActiveOutputArea(window[\"269ce2ca-3f39-11ed-8317-0242ac1c0002\"]);\n",
              "//# sourceURL=js_745cf42c70"
            ]
          },
          "metadata": {}
        },
        {
          "output_type": "display_data",
          "data": {
            "text/plain": [
              "<IPython.core.display.Javascript object>"
            ],
            "application/javascript": [
              "window[\"26b86ebe-3f39-11ed-8317-0242ac1c0002\"] = google.colab.output.setActiveOutputArea(window[\"269c4a04-3f39-11ed-8317-0242ac1c0002\"]);\n",
              "//# sourceURL=js_4c0731d501"
            ]
          },
          "metadata": {}
        },
        {
          "output_type": "display_data",
          "data": {
            "text/plain": [
              "<IPython.core.display.Javascript object>"
            ],
            "application/javascript": [
              "window[\"2754809c-3f39-11ed-8317-0242ac1c0002\"] = google.colab.output.getActiveOutputArea();\n",
              "//# sourceURL=js_ec6fb6ce65"
            ]
          },
          "metadata": {}
        },
        {
          "output_type": "display_data",
          "data": {
            "text/plain": [
              "<IPython.core.display.Javascript object>"
            ],
            "application/javascript": [
              "window[\"2754fa04-3f39-11ed-8317-0242ac1c0002\"] = document.querySelector(\"#id46-0-0\");\n",
              "//# sourceURL=js_bb7692ce0b"
            ]
          },
          "metadata": {}
        },
        {
          "output_type": "display_data",
          "data": {
            "text/plain": [
              "<IPython.core.display.Javascript object>"
            ],
            "application/javascript": [
              "window[\"27556d4a-3f39-11ed-8317-0242ac1c0002\"] = google.colab.output.setActiveOutputArea(window[\"2754fa04-3f39-11ed-8317-0242ac1c0002\"]);\n",
              "//# sourceURL=js_7ed542b136"
            ]
          },
          "metadata": {}
        },
        {
          "output_type": "display_data",
          "data": {
            "text/plain": [
              "<IPython.core.display.Javascript object>"
            ],
            "application/javascript": [
              "window[\"277054e8-3f39-11ed-8317-0242ac1c0002\"] = google.colab.output.setActiveOutputArea(window[\"2754809c-3f39-11ed-8317-0242ac1c0002\"]);\n",
              "//# sourceURL=js_917c18d3a8"
            ]
          },
          "metadata": {}
        },
        {
          "output_type": "display_data",
          "data": {
            "text/plain": [
              "<IPython.core.display.Javascript object>"
            ],
            "application/javascript": [
              "window[\"280db256-3f39-11ed-8317-0242ac1c0002\"] = google.colab.output.getActiveOutputArea();\n",
              "//# sourceURL=js_93990eafe8"
            ]
          },
          "metadata": {}
        },
        {
          "output_type": "display_data",
          "data": {
            "text/plain": [
              "<IPython.core.display.Javascript object>"
            ],
            "application/javascript": [
              "window[\"280e5698-3f39-11ed-8317-0242ac1c0002\"] = document.querySelector(\"#id46-0-0\");\n",
              "//# sourceURL=js_3480c105b7"
            ]
          },
          "metadata": {}
        },
        {
          "output_type": "display_data",
          "data": {
            "text/plain": [
              "<IPython.core.display.Javascript object>"
            ],
            "application/javascript": [
              "window[\"280ee838-3f39-11ed-8317-0242ac1c0002\"] = google.colab.output.setActiveOutputArea(window[\"280e5698-3f39-11ed-8317-0242ac1c0002\"]);\n",
              "//# sourceURL=js_f2e2660a85"
            ]
          },
          "metadata": {}
        },
        {
          "output_type": "display_data",
          "data": {
            "text/plain": [
              "<IPython.core.display.Javascript object>"
            ],
            "application/javascript": [
              "window[\"2829b35c-3f39-11ed-8317-0242ac1c0002\"] = google.colab.output.setActiveOutputArea(window[\"280db256-3f39-11ed-8317-0242ac1c0002\"]);\n",
              "//# sourceURL=js_2899d3f4aa"
            ]
          },
          "metadata": {}
        },
        {
          "output_type": "display_data",
          "data": {
            "text/plain": [
              "<IPython.core.display.Javascript object>"
            ],
            "application/javascript": [
              "window[\"28c826cc-3f39-11ed-8317-0242ac1c0002\"] = google.colab.output.getActiveOutputArea();\n",
              "//# sourceURL=js_0855eb733f"
            ]
          },
          "metadata": {}
        },
        {
          "output_type": "display_data",
          "data": {
            "text/plain": [
              "<IPython.core.display.Javascript object>"
            ],
            "application/javascript": [
              "window[\"28c8c8a2-3f39-11ed-8317-0242ac1c0002\"] = document.querySelector(\"#id46-0-0\");\n",
              "//# sourceURL=js_4a1c656215"
            ]
          },
          "metadata": {}
        },
        {
          "output_type": "display_data",
          "data": {
            "text/plain": [
              "<IPython.core.display.Javascript object>"
            ],
            "application/javascript": [
              "window[\"28c93fa8-3f39-11ed-8317-0242ac1c0002\"] = google.colab.output.setActiveOutputArea(window[\"28c8c8a2-3f39-11ed-8317-0242ac1c0002\"]);\n",
              "//# sourceURL=js_ca23ab11b7"
            ]
          },
          "metadata": {}
        },
        {
          "output_type": "display_data",
          "data": {
            "text/plain": [
              "<IPython.core.display.Javascript object>"
            ],
            "application/javascript": [
              "window[\"28f2d46c-3f39-11ed-8317-0242ac1c0002\"] = google.colab.output.setActiveOutputArea(window[\"28c826cc-3f39-11ed-8317-0242ac1c0002\"]);\n",
              "//# sourceURL=js_87485831e3"
            ]
          },
          "metadata": {}
        },
        {
          "output_type": "display_data",
          "data": {
            "text/plain": [
              "<IPython.core.display.Javascript object>"
            ],
            "application/javascript": [
              "window[\"298e65a8-3f39-11ed-8317-0242ac1c0002\"] = google.colab.output.getActiveOutputArea();\n",
              "//# sourceURL=js_2a80711e0e"
            ]
          },
          "metadata": {}
        },
        {
          "output_type": "display_data",
          "data": {
            "text/plain": [
              "<IPython.core.display.Javascript object>"
            ],
            "application/javascript": [
              "window[\"298edcb8-3f39-11ed-8317-0242ac1c0002\"] = document.querySelector(\"#id46-0-0\");\n",
              "//# sourceURL=js_f06a8736a6"
            ]
          },
          "metadata": {}
        },
        {
          "output_type": "display_data",
          "data": {
            "text/plain": [
              "<IPython.core.display.Javascript object>"
            ],
            "application/javascript": [
              "window[\"298f4e82-3f39-11ed-8317-0242ac1c0002\"] = google.colab.output.setActiveOutputArea(window[\"298edcb8-3f39-11ed-8317-0242ac1c0002\"]);\n",
              "//# sourceURL=js_4bf7aaab84"
            ]
          },
          "metadata": {}
        },
        {
          "output_type": "display_data",
          "data": {
            "text/plain": [
              "<IPython.core.display.Javascript object>"
            ],
            "application/javascript": [
              "window[\"29ac1710-3f39-11ed-8317-0242ac1c0002\"] = google.colab.output.setActiveOutputArea(window[\"298e65a8-3f39-11ed-8317-0242ac1c0002\"]);\n",
              "//# sourceURL=js_1a74f2abc0"
            ]
          },
          "metadata": {}
        },
        {
          "output_type": "display_data",
          "data": {
            "text/plain": [
              "<IPython.core.display.Javascript object>"
            ],
            "application/javascript": [
              "window[\"2a478c90-3f39-11ed-8317-0242ac1c0002\"] = google.colab.output.getActiveOutputArea();\n",
              "//# sourceURL=js_5b9bf71d3f"
            ]
          },
          "metadata": {}
        },
        {
          "output_type": "display_data",
          "data": {
            "text/plain": [
              "<IPython.core.display.Javascript object>"
            ],
            "application/javascript": [
              "window[\"2a47ee60-3f39-11ed-8317-0242ac1c0002\"] = document.querySelector(\"#id46-0-0\");\n",
              "//# sourceURL=js_ec6f40bc2d"
            ]
          },
          "metadata": {}
        },
        {
          "output_type": "display_data",
          "data": {
            "text/plain": [
              "<IPython.core.display.Javascript object>"
            ],
            "application/javascript": [
              "window[\"2a486e12-3f39-11ed-8317-0242ac1c0002\"] = google.colab.output.setActiveOutputArea(window[\"2a47ee60-3f39-11ed-8317-0242ac1c0002\"]);\n",
              "//# sourceURL=js_4e805d0fed"
            ]
          },
          "metadata": {}
        },
        {
          "output_type": "display_data",
          "data": {
            "text/plain": [
              "<IPython.core.display.Javascript object>"
            ],
            "application/javascript": [
              "window[\"2a638fbc-3f39-11ed-8317-0242ac1c0002\"] = google.colab.output.setActiveOutputArea(window[\"2a478c90-3f39-11ed-8317-0242ac1c0002\"]);\n",
              "//# sourceURL=js_2fbfc6eb5d"
            ]
          },
          "metadata": {}
        },
        {
          "output_type": "display_data",
          "data": {
            "text/plain": [
              "<IPython.core.display.Javascript object>"
            ],
            "application/javascript": [
              "window[\"2afeeebc-3f39-11ed-8317-0242ac1c0002\"] = google.colab.output.getActiveOutputArea();\n",
              "//# sourceURL=js_f2eaf2d629"
            ]
          },
          "metadata": {}
        },
        {
          "output_type": "display_data",
          "data": {
            "text/plain": [
              "<IPython.core.display.Javascript object>"
            ],
            "application/javascript": [
              "window[\"2affaa6e-3f39-11ed-8317-0242ac1c0002\"] = document.querySelector(\"#id46-0-0\");\n",
              "//# sourceURL=js_3424687f1c"
            ]
          },
          "metadata": {}
        },
        {
          "output_type": "display_data",
          "data": {
            "text/plain": [
              "<IPython.core.display.Javascript object>"
            ],
            "application/javascript": [
              "window[\"2b009816-3f39-11ed-8317-0242ac1c0002\"] = google.colab.output.setActiveOutputArea(window[\"2affaa6e-3f39-11ed-8317-0242ac1c0002\"]);\n",
              "//# sourceURL=js_14ff1fa3c4"
            ]
          },
          "metadata": {}
        },
        {
          "output_type": "display_data",
          "data": {
            "text/plain": [
              "<IPython.core.display.Javascript object>"
            ],
            "application/javascript": [
              "window[\"2b1eda10-3f39-11ed-8317-0242ac1c0002\"] = google.colab.output.setActiveOutputArea(window[\"2afeeebc-3f39-11ed-8317-0242ac1c0002\"]);\n",
              "//# sourceURL=js_7e6e626bb9"
            ]
          },
          "metadata": {}
        },
        {
          "output_type": "display_data",
          "data": {
            "text/plain": [
              "<IPython.core.display.Javascript object>"
            ],
            "application/javascript": [
              "window[\"2bba4266-3f39-11ed-8317-0242ac1c0002\"] = google.colab.output.getActiveOutputArea();\n",
              "//# sourceURL=js_4b23ddade2"
            ]
          },
          "metadata": {}
        },
        {
          "output_type": "display_data",
          "data": {
            "text/plain": [
              "<IPython.core.display.Javascript object>"
            ],
            "application/javascript": [
              "window[\"2bbaa788-3f39-11ed-8317-0242ac1c0002\"] = document.querySelector(\"#id46-0-0\");\n",
              "//# sourceURL=js_b8ea43ff45"
            ]
          },
          "metadata": {}
        },
        {
          "output_type": "display_data",
          "data": {
            "text/plain": [
              "<IPython.core.display.Javascript object>"
            ],
            "application/javascript": [
              "window[\"2bbb32e8-3f39-11ed-8317-0242ac1c0002\"] = google.colab.output.setActiveOutputArea(window[\"2bbaa788-3f39-11ed-8317-0242ac1c0002\"]);\n",
              "//# sourceURL=js_f8bd754be6"
            ]
          },
          "metadata": {}
        },
        {
          "output_type": "display_data",
          "data": {
            "text/plain": [
              "<IPython.core.display.Javascript object>"
            ],
            "application/javascript": [
              "window[\"2bd526c6-3f39-11ed-8317-0242ac1c0002\"] = google.colab.output.setActiveOutputArea(window[\"2bba4266-3f39-11ed-8317-0242ac1c0002\"]);\n",
              "//# sourceURL=js_94d6565684"
            ]
          },
          "metadata": {}
        },
        {
          "output_type": "display_data",
          "data": {
            "text/plain": [
              "<IPython.core.display.Javascript object>"
            ],
            "application/javascript": [
              "window[\"2c709fb6-3f39-11ed-8317-0242ac1c0002\"] = google.colab.output.getActiveOutputArea();\n",
              "//# sourceURL=js_e2a433a879"
            ]
          },
          "metadata": {}
        },
        {
          "output_type": "display_data",
          "data": {
            "text/plain": [
              "<IPython.core.display.Javascript object>"
            ],
            "application/javascript": [
              "window[\"2c7112e8-3f39-11ed-8317-0242ac1c0002\"] = document.querySelector(\"#id46-0-0\");\n",
              "//# sourceURL=js_6b11cead32"
            ]
          },
          "metadata": {}
        },
        {
          "output_type": "display_data",
          "data": {
            "text/plain": [
              "<IPython.core.display.Javascript object>"
            ],
            "application/javascript": [
              "window[\"2c7188fe-3f39-11ed-8317-0242ac1c0002\"] = google.colab.output.setActiveOutputArea(window[\"2c7112e8-3f39-11ed-8317-0242ac1c0002\"]);\n",
              "//# sourceURL=js_3bec210534"
            ]
          },
          "metadata": {}
        },
        {
          "output_type": "display_data",
          "data": {
            "text/plain": [
              "<IPython.core.display.Javascript object>"
            ],
            "application/javascript": [
              "window[\"2c8e798c-3f39-11ed-8317-0242ac1c0002\"] = google.colab.output.setActiveOutputArea(window[\"2c709fb6-3f39-11ed-8317-0242ac1c0002\"]);\n",
              "//# sourceURL=js_9a27b9c0bf"
            ]
          },
          "metadata": {}
        },
        {
          "output_type": "display_data",
          "data": {
            "text/plain": [
              "<IPython.core.display.Javascript object>"
            ],
            "application/javascript": [
              "window[\"2d2ac012-3f39-11ed-8317-0242ac1c0002\"] = google.colab.output.getActiveOutputArea();\n",
              "//# sourceURL=js_1508ecc92d"
            ]
          },
          "metadata": {}
        },
        {
          "output_type": "display_data",
          "data": {
            "text/plain": [
              "<IPython.core.display.Javascript object>"
            ],
            "application/javascript": [
              "window[\"2d2b753e-3f39-11ed-8317-0242ac1c0002\"] = document.querySelector(\"#id46-0-0\");\n",
              "//# sourceURL=js_4410d5bf75"
            ]
          },
          "metadata": {}
        },
        {
          "output_type": "display_data",
          "data": {
            "text/plain": [
              "<IPython.core.display.Javascript object>"
            ],
            "application/javascript": [
              "window[\"2d2bea00-3f39-11ed-8317-0242ac1c0002\"] = google.colab.output.setActiveOutputArea(window[\"2d2b753e-3f39-11ed-8317-0242ac1c0002\"]);\n",
              "//# sourceURL=js_da3d018847"
            ]
          },
          "metadata": {}
        },
        {
          "output_type": "display_data",
          "data": {
            "text/plain": [
              "<IPython.core.display.Javascript object>"
            ],
            "application/javascript": [
              "window[\"2d471744-3f39-11ed-8317-0242ac1c0002\"] = google.colab.output.setActiveOutputArea(window[\"2d2ac012-3f39-11ed-8317-0242ac1c0002\"]);\n",
              "//# sourceURL=js_7881c98b1a"
            ]
          },
          "metadata": {}
        },
        {
          "output_type": "display_data",
          "data": {
            "text/plain": [
              "<IPython.core.display.Javascript object>"
            ],
            "application/javascript": [
              "window[\"2de26eba-3f39-11ed-8317-0242ac1c0002\"] = google.colab.output.getActiveOutputArea();\n",
              "//# sourceURL=js_2441f272ec"
            ]
          },
          "metadata": {}
        },
        {
          "output_type": "display_data",
          "data": {
            "text/plain": [
              "<IPython.core.display.Javascript object>"
            ],
            "application/javascript": [
              "window[\"2de2cf40-3f39-11ed-8317-0242ac1c0002\"] = document.querySelector(\"#id46-0-0\");\n",
              "//# sourceURL=js_8a2d402fcf"
            ]
          },
          "metadata": {}
        },
        {
          "output_type": "display_data",
          "data": {
            "text/plain": [
              "<IPython.core.display.Javascript object>"
            ],
            "application/javascript": [
              "window[\"2de36220-3f39-11ed-8317-0242ac1c0002\"] = google.colab.output.setActiveOutputArea(window[\"2de2cf40-3f39-11ed-8317-0242ac1c0002\"]);\n",
              "//# sourceURL=js_285c912c1e"
            ]
          },
          "metadata": {}
        },
        {
          "output_type": "display_data",
          "data": {
            "text/plain": [
              "<IPython.core.display.Javascript object>"
            ],
            "application/javascript": [
              "window[\"2e00a236-3f39-11ed-8317-0242ac1c0002\"] = google.colab.output.setActiveOutputArea(window[\"2de26eba-3f39-11ed-8317-0242ac1c0002\"]);\n",
              "//# sourceURL=js_60697877df"
            ]
          },
          "metadata": {}
        },
        {
          "output_type": "display_data",
          "data": {
            "text/plain": [
              "<IPython.core.display.Javascript object>"
            ],
            "application/javascript": [
              "window[\"2e9c4c40-3f39-11ed-8317-0242ac1c0002\"] = google.colab.output.getActiveOutputArea();\n",
              "//# sourceURL=js_2396d9ee1e"
            ]
          },
          "metadata": {}
        },
        {
          "output_type": "display_data",
          "data": {
            "text/plain": [
              "<IPython.core.display.Javascript object>"
            ],
            "application/javascript": [
              "window[\"2e9cb9d2-3f39-11ed-8317-0242ac1c0002\"] = document.querySelector(\"#id46-0-0\");\n",
              "//# sourceURL=js_7be63ac243"
            ]
          },
          "metadata": {}
        },
        {
          "output_type": "display_data",
          "data": {
            "text/plain": [
              "<IPython.core.display.Javascript object>"
            ],
            "application/javascript": [
              "window[\"2e9d42bc-3f39-11ed-8317-0242ac1c0002\"] = google.colab.output.setActiveOutputArea(window[\"2e9cb9d2-3f39-11ed-8317-0242ac1c0002\"]);\n",
              "//# sourceURL=js_a074f34a7a"
            ]
          },
          "metadata": {}
        },
        {
          "output_type": "display_data",
          "data": {
            "text/plain": [
              "<IPython.core.display.Javascript object>"
            ],
            "application/javascript": [
              "window[\"2ec8485e-3f39-11ed-8317-0242ac1c0002\"] = google.colab.output.setActiveOutputArea(window[\"2e9c4c40-3f39-11ed-8317-0242ac1c0002\"]);\n",
              "//# sourceURL=js_334d0502e7"
            ]
          },
          "metadata": {}
        },
        {
          "output_type": "display_data",
          "data": {
            "text/plain": [
              "<IPython.core.display.Javascript object>"
            ],
            "application/javascript": [
              "window[\"2f662b8c-3f39-11ed-8317-0242ac1c0002\"] = google.colab.output.getActiveOutputArea();\n",
              "//# sourceURL=js_d9d43b6bc2"
            ]
          },
          "metadata": {}
        },
        {
          "output_type": "display_data",
          "data": {
            "text/plain": [
              "<IPython.core.display.Javascript object>"
            ],
            "application/javascript": [
              "window[\"2f674b02-3f39-11ed-8317-0242ac1c0002\"] = document.querySelector(\"#id46-0-0\");\n",
              "//# sourceURL=js_46454ad4e5"
            ]
          },
          "metadata": {}
        },
        {
          "output_type": "display_data",
          "data": {
            "text/plain": [
              "<IPython.core.display.Javascript object>"
            ],
            "application/javascript": [
              "window[\"2f691b08-3f39-11ed-8317-0242ac1c0002\"] = google.colab.output.setActiveOutputArea(window[\"2f674b02-3f39-11ed-8317-0242ac1c0002\"]);\n",
              "//# sourceURL=js_61dcb5ad0c"
            ]
          },
          "metadata": {}
        },
        {
          "output_type": "display_data",
          "data": {
            "text/plain": [
              "<IPython.core.display.Javascript object>"
            ],
            "application/javascript": [
              "window[\"2fa95eac-3f39-11ed-8317-0242ac1c0002\"] = google.colab.output.setActiveOutputArea(window[\"2f662b8c-3f39-11ed-8317-0242ac1c0002\"]);\n",
              "//# sourceURL=js_1b547f164b"
            ]
          },
          "metadata": {}
        },
        {
          "output_type": "display_data",
          "data": {
            "text/plain": [
              "<IPython.core.display.Javascript object>"
            ],
            "application/javascript": [
              "window[\"304b3ee8-3f39-11ed-8317-0242ac1c0002\"] = google.colab.output.getActiveOutputArea();\n",
              "//# sourceURL=js_69eabd0371"
            ]
          },
          "metadata": {}
        },
        {
          "output_type": "display_data",
          "data": {
            "text/plain": [
              "<IPython.core.display.Javascript object>"
            ],
            "application/javascript": [
              "window[\"304cac06-3f39-11ed-8317-0242ac1c0002\"] = document.querySelector(\"#id46-0-0\");\n",
              "//# sourceURL=js_7a378d7732"
            ]
          },
          "metadata": {}
        },
        {
          "output_type": "display_data",
          "data": {
            "text/plain": [
              "<IPython.core.display.Javascript object>"
            ],
            "application/javascript": [
              "window[\"304ddafe-3f39-11ed-8317-0242ac1c0002\"] = google.colab.output.setActiveOutputArea(window[\"304cac06-3f39-11ed-8317-0242ac1c0002\"]);\n",
              "//# sourceURL=js_b0aa227d61"
            ]
          },
          "metadata": {}
        },
        {
          "output_type": "display_data",
          "data": {
            "text/plain": [
              "<IPython.core.display.Javascript object>"
            ],
            "application/javascript": [
              "window[\"307d43a2-3f39-11ed-8317-0242ac1c0002\"] = google.colab.output.setActiveOutputArea(window[\"304b3ee8-3f39-11ed-8317-0242ac1c0002\"]);\n",
              "//# sourceURL=js_ce4dd6a5f6"
            ]
          },
          "metadata": {}
        },
        {
          "output_type": "display_data",
          "data": {
            "text/plain": [
              "<IPython.core.display.Javascript object>"
            ],
            "application/javascript": [
              "window[\"311c2a62-3f39-11ed-8317-0242ac1c0002\"] = google.colab.output.getActiveOutputArea();\n",
              "//# sourceURL=js_eba4485352"
            ]
          },
          "metadata": {}
        },
        {
          "output_type": "display_data",
          "data": {
            "text/plain": [
              "<IPython.core.display.Javascript object>"
            ],
            "application/javascript": [
              "window[\"311ddaba-3f39-11ed-8317-0242ac1c0002\"] = document.querySelector(\"#id46-0-0\");\n",
              "//# sourceURL=js_a95f26c731"
            ]
          },
          "metadata": {}
        },
        {
          "output_type": "display_data",
          "data": {
            "text/plain": [
              "<IPython.core.display.Javascript object>"
            ],
            "application/javascript": [
              "window[\"311f33c4-3f39-11ed-8317-0242ac1c0002\"] = google.colab.output.setActiveOutputArea(window[\"311ddaba-3f39-11ed-8317-0242ac1c0002\"]);\n",
              "//# sourceURL=js_e8b3bf1fc5"
            ]
          },
          "metadata": {}
        },
        {
          "output_type": "display_data",
          "data": {
            "text/plain": [
              "<IPython.core.display.Javascript object>"
            ],
            "application/javascript": [
              "window[\"316b3cb0-3f39-11ed-8317-0242ac1c0002\"] = google.colab.output.setActiveOutputArea(window[\"311c2a62-3f39-11ed-8317-0242ac1c0002\"]);\n",
              "//# sourceURL=js_798dd60a3d"
            ]
          },
          "metadata": {}
        },
        {
          "output_type": "display_data",
          "data": {
            "text/plain": [
              "<IPython.core.display.Javascript object>"
            ],
            "application/javascript": [
              "window[\"320cab9a-3f39-11ed-8317-0242ac1c0002\"] = google.colab.output.getActiveOutputArea();\n",
              "//# sourceURL=js_26fefe23c1"
            ]
          },
          "metadata": {}
        },
        {
          "output_type": "display_data",
          "data": {
            "text/plain": [
              "<IPython.core.display.Javascript object>"
            ],
            "application/javascript": [
              "window[\"320e1250-3f39-11ed-8317-0242ac1c0002\"] = document.querySelector(\"#id46-0-0\");\n",
              "//# sourceURL=js_9f6dcdb04d"
            ]
          },
          "metadata": {}
        },
        {
          "output_type": "display_data",
          "data": {
            "text/plain": [
              "<IPython.core.display.Javascript object>"
            ],
            "application/javascript": [
              "window[\"3211934e-3f39-11ed-8317-0242ac1c0002\"] = google.colab.output.setActiveOutputArea(window[\"320e1250-3f39-11ed-8317-0242ac1c0002\"]);\n",
              "//# sourceURL=js_5eefc2a34d"
            ]
          },
          "metadata": {}
        },
        {
          "output_type": "display_data",
          "data": {
            "text/plain": [
              "<IPython.core.display.Javascript object>"
            ],
            "application/javascript": [
              "window[\"3251420a-3f39-11ed-8317-0242ac1c0002\"] = google.colab.output.setActiveOutputArea(window[\"320cab9a-3f39-11ed-8317-0242ac1c0002\"]);\n",
              "//# sourceURL=js_28e87afe84"
            ]
          },
          "metadata": {}
        },
        {
          "output_type": "display_data",
          "data": {
            "text/plain": [
              "<IPython.core.display.Javascript object>"
            ],
            "application/javascript": [
              "window[\"32f3113e-3f39-11ed-8317-0242ac1c0002\"] = google.colab.output.getActiveOutputArea();\n",
              "//# sourceURL=js_9ad692979b"
            ]
          },
          "metadata": {}
        },
        {
          "output_type": "display_data",
          "data": {
            "text/plain": [
              "<IPython.core.display.Javascript object>"
            ],
            "application/javascript": [
              "window[\"32f42e7a-3f39-11ed-8317-0242ac1c0002\"] = document.querySelector(\"#id46-0-0\");\n",
              "//# sourceURL=js_836daeeddc"
            ]
          },
          "metadata": {}
        },
        {
          "output_type": "display_data",
          "data": {
            "text/plain": [
              "<IPython.core.display.Javascript object>"
            ],
            "application/javascript": [
              "window[\"32f566e6-3f39-11ed-8317-0242ac1c0002\"] = google.colab.output.setActiveOutputArea(window[\"32f42e7a-3f39-11ed-8317-0242ac1c0002\"]);\n",
              "//# sourceURL=js_bc72092920"
            ]
          },
          "metadata": {}
        },
        {
          "output_type": "display_data",
          "data": {
            "text/plain": [
              "<IPython.core.display.Javascript object>"
            ],
            "application/javascript": [
              "window[\"33338e8a-3f39-11ed-8317-0242ac1c0002\"] = google.colab.output.setActiveOutputArea(window[\"32f3113e-3f39-11ed-8317-0242ac1c0002\"]);\n",
              "//# sourceURL=js_20b369803c"
            ]
          },
          "metadata": {}
        },
        {
          "output_type": "display_data",
          "data": {
            "text/plain": [
              "<IPython.core.display.Javascript object>"
            ],
            "application/javascript": [
              "window[\"33d15160-3f39-11ed-8317-0242ac1c0002\"] = google.colab.output.getActiveOutputArea();\n",
              "//# sourceURL=js_e83b45a839"
            ]
          },
          "metadata": {}
        },
        {
          "output_type": "display_data",
          "data": {
            "text/plain": [
              "<IPython.core.display.Javascript object>"
            ],
            "application/javascript": [
              "window[\"33d1d004-3f39-11ed-8317-0242ac1c0002\"] = document.querySelector(\"#id46-0-0\");\n",
              "//# sourceURL=js_4efccd1d0a"
            ]
          },
          "metadata": {}
        },
        {
          "output_type": "display_data",
          "data": {
            "text/plain": [
              "<IPython.core.display.Javascript object>"
            ],
            "application/javascript": [
              "window[\"33d23c42-3f39-11ed-8317-0242ac1c0002\"] = google.colab.output.setActiveOutputArea(window[\"33d1d004-3f39-11ed-8317-0242ac1c0002\"]);\n",
              "//# sourceURL=js_84b1bd051d"
            ]
          },
          "metadata": {}
        },
        {
          "output_type": "display_data",
          "data": {
            "text/plain": [
              "<IPython.core.display.Javascript object>"
            ],
            "application/javascript": [
              "window[\"33ed4d84-3f39-11ed-8317-0242ac1c0002\"] = google.colab.output.setActiveOutputArea(window[\"33d15160-3f39-11ed-8317-0242ac1c0002\"]);\n",
              "//# sourceURL=js_ccc1537559"
            ]
          },
          "metadata": {}
        },
        {
          "output_type": "display_data",
          "data": {
            "text/plain": [
              "<IPython.core.display.Javascript object>"
            ],
            "application/javascript": [
              "window[\"34895792-3f39-11ed-8317-0242ac1c0002\"] = google.colab.output.getActiveOutputArea();\n",
              "//# sourceURL=js_828fc50d9a"
            ]
          },
          "metadata": {}
        },
        {
          "output_type": "display_data",
          "data": {
            "text/plain": [
              "<IPython.core.display.Javascript object>"
            ],
            "application/javascript": [
              "window[\"3489bf48-3f39-11ed-8317-0242ac1c0002\"] = document.querySelector(\"#id46-0-0\");\n",
              "//# sourceURL=js_7bdae102a9"
            ]
          },
          "metadata": {}
        },
        {
          "output_type": "display_data",
          "data": {
            "text/plain": [
              "<IPython.core.display.Javascript object>"
            ],
            "application/javascript": [
              "window[\"348a430a-3f39-11ed-8317-0242ac1c0002\"] = google.colab.output.setActiveOutputArea(window[\"3489bf48-3f39-11ed-8317-0242ac1c0002\"]);\n",
              "//# sourceURL=js_bc3188087e"
            ]
          },
          "metadata": {}
        },
        {
          "output_type": "display_data",
          "data": {
            "text/plain": [
              "<IPython.core.display.Javascript object>"
            ],
            "application/javascript": [
              "window[\"34a677b4-3f39-11ed-8317-0242ac1c0002\"] = google.colab.output.setActiveOutputArea(window[\"34895792-3f39-11ed-8317-0242ac1c0002\"]);\n",
              "//# sourceURL=js_4f679ed31d"
            ]
          },
          "metadata": {}
        },
        {
          "output_type": "display_data",
          "data": {
            "text/plain": [
              "<IPython.core.display.Javascript object>"
            ],
            "application/javascript": [
              "window[\"35441780-3f39-11ed-8317-0242ac1c0002\"] = google.colab.output.getActiveOutputArea();\n",
              "//# sourceURL=js_ab9bdea37e"
            ]
          },
          "metadata": {}
        },
        {
          "output_type": "display_data",
          "data": {
            "text/plain": [
              "<IPython.core.display.Javascript object>"
            ],
            "application/javascript": [
              "window[\"35448710-3f39-11ed-8317-0242ac1c0002\"] = document.querySelector(\"#id46-0-0\");\n",
              "//# sourceURL=js_5689a17461"
            ]
          },
          "metadata": {}
        },
        {
          "output_type": "display_data",
          "data": {
            "text/plain": [
              "<IPython.core.display.Javascript object>"
            ],
            "application/javascript": [
              "window[\"35455000-3f39-11ed-8317-0242ac1c0002\"] = google.colab.output.setActiveOutputArea(window[\"35448710-3f39-11ed-8317-0242ac1c0002\"]);\n",
              "//# sourceURL=js_a6ea233740"
            ]
          },
          "metadata": {}
        },
        {
          "output_type": "display_data",
          "data": {
            "text/plain": [
              "<IPython.core.display.Javascript object>"
            ],
            "application/javascript": [
              "window[\"3560c61e-3f39-11ed-8317-0242ac1c0002\"] = google.colab.output.setActiveOutputArea(window[\"35441780-3f39-11ed-8317-0242ac1c0002\"]);\n",
              "//# sourceURL=js_5bbcd95657"
            ]
          },
          "metadata": {}
        },
        {
          "output_type": "display_data",
          "data": {
            "text/plain": [
              "<IPython.core.display.Javascript object>"
            ],
            "application/javascript": [
              "window[\"35fe31d8-3f39-11ed-8317-0242ac1c0002\"] = google.colab.output.getActiveOutputArea();\n",
              "//# sourceURL=js_3f59c317ac"
            ]
          },
          "metadata": {}
        },
        {
          "output_type": "display_data",
          "data": {
            "text/plain": [
              "<IPython.core.display.Javascript object>"
            ],
            "application/javascript": [
              "window[\"35feaf8c-3f39-11ed-8317-0242ac1c0002\"] = document.querySelector(\"#id46-0-0\");\n",
              "//# sourceURL=js_7033bfdba7"
            ]
          },
          "metadata": {}
        },
        {
          "output_type": "display_data",
          "data": {
            "text/plain": [
              "<IPython.core.display.Javascript object>"
            ],
            "application/javascript": [
              "window[\"36001d9a-3f39-11ed-8317-0242ac1c0002\"] = google.colab.output.setActiveOutputArea(window[\"35feaf8c-3f39-11ed-8317-0242ac1c0002\"]);\n",
              "//# sourceURL=js_b29de10d90"
            ]
          },
          "metadata": {}
        },
        {
          "output_type": "display_data",
          "data": {
            "text/plain": [
              "<IPython.core.display.Javascript object>"
            ],
            "application/javascript": [
              "window[\"361da25c-3f39-11ed-8317-0242ac1c0002\"] = google.colab.output.setActiveOutputArea(window[\"35fe31d8-3f39-11ed-8317-0242ac1c0002\"]);\n",
              "//# sourceURL=js_375bbd0147"
            ]
          },
          "metadata": {}
        },
        {
          "output_type": "display_data",
          "data": {
            "text/plain": [
              "<IPython.core.display.Javascript object>"
            ],
            "application/javascript": [
              "window[\"36b913c2-3f39-11ed-8317-0242ac1c0002\"] = google.colab.output.getActiveOutputArea();\n",
              "//# sourceURL=js_9914b085ab"
            ]
          },
          "metadata": {}
        },
        {
          "output_type": "display_data",
          "data": {
            "text/plain": [
              "<IPython.core.display.Javascript object>"
            ],
            "application/javascript": [
              "window[\"36b9d32a-3f39-11ed-8317-0242ac1c0002\"] = document.querySelector(\"#id46-0-0\");\n",
              "//# sourceURL=js_d4b48ca8d9"
            ]
          },
          "metadata": {}
        },
        {
          "output_type": "display_data",
          "data": {
            "text/plain": [
              "<IPython.core.display.Javascript object>"
            ],
            "application/javascript": [
              "window[\"36ba564c-3f39-11ed-8317-0242ac1c0002\"] = google.colab.output.setActiveOutputArea(window[\"36b9d32a-3f39-11ed-8317-0242ac1c0002\"]);\n",
              "//# sourceURL=js_2f3e60158e"
            ]
          },
          "metadata": {}
        },
        {
          "output_type": "display_data",
          "data": {
            "text/plain": [
              "<IPython.core.display.Javascript object>"
            ],
            "application/javascript": [
              "window[\"36d6cf48-3f39-11ed-8317-0242ac1c0002\"] = google.colab.output.setActiveOutputArea(window[\"36b913c2-3f39-11ed-8317-0242ac1c0002\"]);\n",
              "//# sourceURL=js_58c844f445"
            ]
          },
          "metadata": {}
        },
        {
          "output_type": "display_data",
          "data": {
            "text/plain": [
              "<IPython.core.display.Javascript object>"
            ],
            "application/javascript": [
              "window[\"3772a292-3f39-11ed-8317-0242ac1c0002\"] = google.colab.output.getActiveOutputArea();\n",
              "//# sourceURL=js_8317efb2c0"
            ]
          },
          "metadata": {}
        },
        {
          "output_type": "display_data",
          "data": {
            "text/plain": [
              "<IPython.core.display.Javascript object>"
            ],
            "application/javascript": [
              "window[\"3773988c-3f39-11ed-8317-0242ac1c0002\"] = document.querySelector(\"#id46-0-0\");\n",
              "//# sourceURL=js_205a23f060"
            ]
          },
          "metadata": {}
        },
        {
          "output_type": "display_data",
          "data": {
            "text/plain": [
              "<IPython.core.display.Javascript object>"
            ],
            "application/javascript": [
              "window[\"377450ba-3f39-11ed-8317-0242ac1c0002\"] = google.colab.output.setActiveOutputArea(window[\"3773988c-3f39-11ed-8317-0242ac1c0002\"]);\n",
              "//# sourceURL=js_92619578e4"
            ]
          },
          "metadata": {}
        },
        {
          "output_type": "display_data",
          "data": {
            "text/plain": [
              "<IPython.core.display.Javascript object>"
            ],
            "application/javascript": [
              "window[\"378eda34-3f39-11ed-8317-0242ac1c0002\"] = google.colab.output.setActiveOutputArea(window[\"3772a292-3f39-11ed-8317-0242ac1c0002\"]);\n",
              "//# sourceURL=js_3ef4c200a0"
            ]
          },
          "metadata": {}
        },
        {
          "output_type": "display_data",
          "data": {
            "text/plain": [
              "<IPython.core.display.Javascript object>"
            ],
            "application/javascript": [
              "window[\"382c7596-3f39-11ed-8317-0242ac1c0002\"] = google.colab.output.getActiveOutputArea();\n",
              "//# sourceURL=js_674257b451"
            ]
          },
          "metadata": {}
        },
        {
          "output_type": "display_data",
          "data": {
            "text/plain": [
              "<IPython.core.display.Javascript object>"
            ],
            "application/javascript": [
              "window[\"382d223e-3f39-11ed-8317-0242ac1c0002\"] = document.querySelector(\"#id46-0-0\");\n",
              "//# sourceURL=js_84479d10d1"
            ]
          },
          "metadata": {}
        },
        {
          "output_type": "display_data",
          "data": {
            "text/plain": [
              "<IPython.core.display.Javascript object>"
            ],
            "application/javascript": [
              "window[\"382d9642-3f39-11ed-8317-0242ac1c0002\"] = google.colab.output.setActiveOutputArea(window[\"382d223e-3f39-11ed-8317-0242ac1c0002\"]);\n",
              "//# sourceURL=js_db7e517e33"
            ]
          },
          "metadata": {}
        },
        {
          "output_type": "display_data",
          "data": {
            "text/plain": [
              "<IPython.core.display.Javascript object>"
            ],
            "application/javascript": [
              "window[\"384cac62-3f39-11ed-8317-0242ac1c0002\"] = google.colab.output.setActiveOutputArea(window[\"382c7596-3f39-11ed-8317-0242ac1c0002\"]);\n",
              "//# sourceURL=js_a2e794dfcc"
            ]
          },
          "metadata": {}
        },
        {
          "output_type": "display_data",
          "data": {
            "text/plain": [
              "<IPython.core.display.Javascript object>"
            ],
            "application/javascript": [
              "window[\"38e7e39e-3f39-11ed-8317-0242ac1c0002\"] = google.colab.output.getActiveOutputArea();\n",
              "//# sourceURL=js_737b60b976"
            ]
          },
          "metadata": {}
        },
        {
          "output_type": "display_data",
          "data": {
            "text/plain": [
              "<IPython.core.display.Javascript object>"
            ],
            "application/javascript": [
              "window[\"38e864f4-3f39-11ed-8317-0242ac1c0002\"] = document.querySelector(\"#id46-0-0\");\n",
              "//# sourceURL=js_3d6794067c"
            ]
          },
          "metadata": {}
        },
        {
          "output_type": "display_data",
          "data": {
            "text/plain": [
              "<IPython.core.display.Javascript object>"
            ],
            "application/javascript": [
              "window[\"38e8f004-3f39-11ed-8317-0242ac1c0002\"] = google.colab.output.setActiveOutputArea(window[\"38e864f4-3f39-11ed-8317-0242ac1c0002\"]);\n",
              "//# sourceURL=js_cb3e0cfe5a"
            ]
          },
          "metadata": {}
        },
        {
          "output_type": "display_data",
          "data": {
            "text/plain": [
              "<IPython.core.display.Javascript object>"
            ],
            "application/javascript": [
              "window[\"39065e64-3f39-11ed-8317-0242ac1c0002\"] = google.colab.output.setActiveOutputArea(window[\"38e7e39e-3f39-11ed-8317-0242ac1c0002\"]);\n",
              "//# sourceURL=js_6b49e6f0b3"
            ]
          },
          "metadata": {}
        },
        {
          "output_type": "display_data",
          "data": {
            "text/plain": [
              "<IPython.core.display.Javascript object>"
            ],
            "application/javascript": [
              "window[\"39a24c8e-3f39-11ed-8317-0242ac1c0002\"] = google.colab.output.getActiveOutputArea();\n",
              "//# sourceURL=js_c991024795"
            ]
          },
          "metadata": {}
        },
        {
          "output_type": "display_data",
          "data": {
            "text/plain": [
              "<IPython.core.display.Javascript object>"
            ],
            "application/javascript": [
              "window[\"39a2aba2-3f39-11ed-8317-0242ac1c0002\"] = document.querySelector(\"#id46-0-0\");\n",
              "//# sourceURL=js_6c625047e7"
            ]
          },
          "metadata": {}
        },
        {
          "output_type": "display_data",
          "data": {
            "text/plain": [
              "<IPython.core.display.Javascript object>"
            ],
            "application/javascript": [
              "window[\"39a30908-3f39-11ed-8317-0242ac1c0002\"] = google.colab.output.setActiveOutputArea(window[\"39a2aba2-3f39-11ed-8317-0242ac1c0002\"]);\n",
              "//# sourceURL=js_11b8d99dcc"
            ]
          },
          "metadata": {}
        },
        {
          "output_type": "display_data",
          "data": {
            "text/plain": [
              "<IPython.core.display.Javascript object>"
            ],
            "application/javascript": [
              "window[\"39ccb960-3f39-11ed-8317-0242ac1c0002\"] = google.colab.output.setActiveOutputArea(window[\"39a24c8e-3f39-11ed-8317-0242ac1c0002\"]);\n",
              "//# sourceURL=js_69a597fb8a"
            ]
          },
          "metadata": {}
        },
        {
          "output_type": "display_data",
          "data": {
            "text/plain": [
              "<IPython.core.display.Javascript object>"
            ],
            "application/javascript": [
              "window[\"3a68e65a-3f39-11ed-8317-0242ac1c0002\"] = google.colab.output.getActiveOutputArea();\n",
              "//# sourceURL=js_17442c3285"
            ]
          },
          "metadata": {}
        },
        {
          "output_type": "display_data",
          "data": {
            "text/plain": [
              "<IPython.core.display.Javascript object>"
            ],
            "application/javascript": [
              "window[\"3a6976a6-3f39-11ed-8317-0242ac1c0002\"] = document.querySelector(\"#id46-0-0\");\n",
              "//# sourceURL=js_e3d218f861"
            ]
          },
          "metadata": {}
        },
        {
          "output_type": "display_data",
          "data": {
            "text/plain": [
              "<IPython.core.display.Javascript object>"
            ],
            "application/javascript": [
              "window[\"3a69d3b2-3f39-11ed-8317-0242ac1c0002\"] = google.colab.output.setActiveOutputArea(window[\"3a6976a6-3f39-11ed-8317-0242ac1c0002\"]);\n",
              "//# sourceURL=js_86fea4e678"
            ]
          },
          "metadata": {}
        },
        {
          "output_type": "display_data",
          "data": {
            "text/plain": [
              "<IPython.core.display.Javascript object>"
            ],
            "application/javascript": [
              "window[\"3a852932-3f39-11ed-8317-0242ac1c0002\"] = google.colab.output.setActiveOutputArea(window[\"3a68e65a-3f39-11ed-8317-0242ac1c0002\"]);\n",
              "//# sourceURL=js_4b30e5f3ce"
            ]
          },
          "metadata": {}
        },
        {
          "output_type": "display_data",
          "data": {
            "text/plain": [
              "<IPython.core.display.Javascript object>"
            ],
            "application/javascript": [
              "window[\"3b20d012-3f39-11ed-8317-0242ac1c0002\"] = google.colab.output.getActiveOutputArea();\n",
              "//# sourceURL=js_ff996aa67c"
            ]
          },
          "metadata": {}
        },
        {
          "output_type": "display_data",
          "data": {
            "text/plain": [
              "<IPython.core.display.Javascript object>"
            ],
            "application/javascript": [
              "window[\"3b216266-3f39-11ed-8317-0242ac1c0002\"] = document.querySelector(\"#id46-0-0\");\n",
              "//# sourceURL=js_623b6fcccb"
            ]
          },
          "metadata": {}
        },
        {
          "output_type": "display_data",
          "data": {
            "text/plain": [
              "<IPython.core.display.Javascript object>"
            ],
            "application/javascript": [
              "window[\"3b21c10c-3f39-11ed-8317-0242ac1c0002\"] = google.colab.output.setActiveOutputArea(window[\"3b216266-3f39-11ed-8317-0242ac1c0002\"]);\n",
              "//# sourceURL=js_0978eccb5b"
            ]
          },
          "metadata": {}
        },
        {
          "output_type": "display_data",
          "data": {
            "text/plain": [
              "<IPython.core.display.Javascript object>"
            ],
            "application/javascript": [
              "window[\"3b3e1c58-3f39-11ed-8317-0242ac1c0002\"] = google.colab.output.setActiveOutputArea(window[\"3b20d012-3f39-11ed-8317-0242ac1c0002\"]);\n",
              "//# sourceURL=js_a5fb94e2e4"
            ]
          },
          "metadata": {}
        },
        {
          "output_type": "display_data",
          "data": {
            "text/plain": [
              "<IPython.core.display.Javascript object>"
            ],
            "application/javascript": [
              "window[\"3bda1cde-3f39-11ed-8317-0242ac1c0002\"] = google.colab.output.getActiveOutputArea();\n",
              "//# sourceURL=js_905f9f35ae"
            ]
          },
          "metadata": {}
        },
        {
          "output_type": "display_data",
          "data": {
            "text/plain": [
              "<IPython.core.display.Javascript object>"
            ],
            "application/javascript": [
              "window[\"3bda8200-3f39-11ed-8317-0242ac1c0002\"] = document.querySelector(\"#id46-0-0\");\n",
              "//# sourceURL=js_68d327d2a0"
            ]
          },
          "metadata": {}
        },
        {
          "output_type": "display_data",
          "data": {
            "text/plain": [
              "<IPython.core.display.Javascript object>"
            ],
            "application/javascript": [
              "window[\"3bdaddd6-3f39-11ed-8317-0242ac1c0002\"] = google.colab.output.setActiveOutputArea(window[\"3bda8200-3f39-11ed-8317-0242ac1c0002\"]);\n",
              "//# sourceURL=js_9fd91c6320"
            ]
          },
          "metadata": {}
        },
        {
          "output_type": "display_data",
          "data": {
            "text/plain": [
              "<IPython.core.display.Javascript object>"
            ],
            "application/javascript": [
              "window[\"3bf9f9dc-3f39-11ed-8317-0242ac1c0002\"] = google.colab.output.setActiveOutputArea(window[\"3bda1cde-3f39-11ed-8317-0242ac1c0002\"]);\n",
              "//# sourceURL=js_90c880c4f3"
            ]
          },
          "metadata": {}
        },
        {
          "output_type": "display_data",
          "data": {
            "text/plain": [
              "<IPython.core.display.Javascript object>"
            ],
            "application/javascript": [
              "window[\"3c96744c-3f39-11ed-8317-0242ac1c0002\"] = google.colab.output.getActiveOutputArea();\n",
              "//# sourceURL=js_92e03799a8"
            ]
          },
          "metadata": {}
        },
        {
          "output_type": "display_data",
          "data": {
            "text/plain": [
              "<IPython.core.display.Javascript object>"
            ],
            "application/javascript": [
              "window[\"3c96dfae-3f39-11ed-8317-0242ac1c0002\"] = document.querySelector(\"#id46-0-0\");\n",
              "//# sourceURL=js_0548aaebf1"
            ]
          },
          "metadata": {}
        },
        {
          "output_type": "display_data",
          "data": {
            "text/plain": [
              "<IPython.core.display.Javascript object>"
            ],
            "application/javascript": [
              "window[\"3c978d32-3f39-11ed-8317-0242ac1c0002\"] = google.colab.output.setActiveOutputArea(window[\"3c96dfae-3f39-11ed-8317-0242ac1c0002\"]);\n",
              "//# sourceURL=js_71ad45919b"
            ]
          },
          "metadata": {}
        },
        {
          "output_type": "display_data",
          "data": {
            "text/plain": [
              "<IPython.core.display.Javascript object>"
            ],
            "application/javascript": [
              "window[\"3cb54a20-3f39-11ed-8317-0242ac1c0002\"] = google.colab.output.setActiveOutputArea(window[\"3c96744c-3f39-11ed-8317-0242ac1c0002\"]);\n",
              "//# sourceURL=js_11912fd9ea"
            ]
          },
          "metadata": {}
        },
        {
          "output_type": "display_data",
          "data": {
            "text/plain": [
              "<IPython.core.display.Javascript object>"
            ],
            "application/javascript": [
              "window[\"3d530224-3f39-11ed-8317-0242ac1c0002\"] = google.colab.output.getActiveOutputArea();\n",
              "//# sourceURL=js_8f8d6d1896"
            ]
          },
          "metadata": {}
        },
        {
          "output_type": "display_data",
          "data": {
            "text/plain": [
              "<IPython.core.display.Javascript object>"
            ],
            "application/javascript": [
              "window[\"3d561946-3f39-11ed-8317-0242ac1c0002\"] = document.querySelector(\"#id46-0-0\");\n",
              "//# sourceURL=js_557234dc35"
            ]
          },
          "metadata": {}
        },
        {
          "output_type": "display_data",
          "data": {
            "text/plain": [
              "<IPython.core.display.Javascript object>"
            ],
            "application/javascript": [
              "window[\"3d57e096-3f39-11ed-8317-0242ac1c0002\"] = google.colab.output.setActiveOutputArea(window[\"3d561946-3f39-11ed-8317-0242ac1c0002\"]);\n",
              "//# sourceURL=js_eef0b2ba5a"
            ]
          },
          "metadata": {}
        },
        {
          "output_type": "display_data",
          "data": {
            "text/plain": [
              "<IPython.core.display.Javascript object>"
            ],
            "application/javascript": [
              "window[\"3d945148-3f39-11ed-8317-0242ac1c0002\"] = google.colab.output.setActiveOutputArea(window[\"3d530224-3f39-11ed-8317-0242ac1c0002\"]);\n",
              "//# sourceURL=js_93dd1c09eb"
            ]
          },
          "metadata": {}
        },
        {
          "output_type": "display_data",
          "data": {
            "text/plain": [
              "<IPython.core.display.Javascript object>"
            ],
            "application/javascript": [
              "window[\"3e3060b0-3f39-11ed-8317-0242ac1c0002\"] = google.colab.output.getActiveOutputArea();\n",
              "//# sourceURL=js_126658bbcf"
            ]
          },
          "metadata": {}
        },
        {
          "output_type": "display_data",
          "data": {
            "text/plain": [
              "<IPython.core.display.Javascript object>"
            ],
            "application/javascript": [
              "window[\"3e30d892-3f39-11ed-8317-0242ac1c0002\"] = document.querySelector(\"#id46-0-0\");\n",
              "//# sourceURL=js_eaa571f114"
            ]
          },
          "metadata": {}
        },
        {
          "output_type": "display_data",
          "data": {
            "text/plain": [
              "<IPython.core.display.Javascript object>"
            ],
            "application/javascript": [
              "window[\"3e314d04-3f39-11ed-8317-0242ac1c0002\"] = google.colab.output.setActiveOutputArea(window[\"3e30d892-3f39-11ed-8317-0242ac1c0002\"]);\n",
              "//# sourceURL=js_09b4b6afe8"
            ]
          },
          "metadata": {}
        },
        {
          "output_type": "display_data",
          "data": {
            "text/plain": [
              "<IPython.core.display.Javascript object>"
            ],
            "application/javascript": [
              "window[\"3e4d8c08-3f39-11ed-8317-0242ac1c0002\"] = google.colab.output.setActiveOutputArea(window[\"3e3060b0-3f39-11ed-8317-0242ac1c0002\"]);\n",
              "//# sourceURL=js_90d8a4622e"
            ]
          },
          "metadata": {}
        },
        {
          "output_type": "display_data",
          "data": {
            "text/plain": [
              "<IPython.core.display.Javascript object>"
            ],
            "application/javascript": [
              "window[\"3eec275a-3f39-11ed-8317-0242ac1c0002\"] = google.colab.output.getActiveOutputArea();\n",
              "//# sourceURL=js_76db86b8e9"
            ]
          },
          "metadata": {}
        },
        {
          "output_type": "display_data",
          "data": {
            "text/plain": [
              "<IPython.core.display.Javascript object>"
            ],
            "application/javascript": [
              "window[\"3eed23bc-3f39-11ed-8317-0242ac1c0002\"] = document.querySelector(\"#id46-0-0\");\n",
              "//# sourceURL=js_2137a201d1"
            ]
          },
          "metadata": {}
        },
        {
          "output_type": "display_data",
          "data": {
            "text/plain": [
              "<IPython.core.display.Javascript object>"
            ],
            "application/javascript": [
              "window[\"3eedbe4e-3f39-11ed-8317-0242ac1c0002\"] = google.colab.output.setActiveOutputArea(window[\"3eed23bc-3f39-11ed-8317-0242ac1c0002\"]);\n",
              "//# sourceURL=js_9dca040d36"
            ]
          },
          "metadata": {}
        },
        {
          "output_type": "display_data",
          "data": {
            "text/plain": [
              "<IPython.core.display.Javascript object>"
            ],
            "application/javascript": [
              "window[\"3f0b4824-3f39-11ed-8317-0242ac1c0002\"] = google.colab.output.setActiveOutputArea(window[\"3eec275a-3f39-11ed-8317-0242ac1c0002\"]);\n",
              "//# sourceURL=js_77a9cc1287"
            ]
          },
          "metadata": {}
        },
        {
          "output_type": "display_data",
          "data": {
            "text/plain": [
              "<IPython.core.display.Javascript object>"
            ],
            "application/javascript": [
              "window[\"3fa8a27c-3f39-11ed-8317-0242ac1c0002\"] = google.colab.output.getActiveOutputArea();\n",
              "//# sourceURL=js_bf82af9fac"
            ]
          },
          "metadata": {}
        },
        {
          "output_type": "display_data",
          "data": {
            "text/plain": [
              "<IPython.core.display.Javascript object>"
            ],
            "application/javascript": [
              "window[\"3fa93c00-3f39-11ed-8317-0242ac1c0002\"] = document.querySelector(\"#id46-0-0\");\n",
              "//# sourceURL=js_ce6c873eab"
            ]
          },
          "metadata": {}
        },
        {
          "output_type": "display_data",
          "data": {
            "text/plain": [
              "<IPython.core.display.Javascript object>"
            ],
            "application/javascript": [
              "window[\"3faa007c-3f39-11ed-8317-0242ac1c0002\"] = google.colab.output.setActiveOutputArea(window[\"3fa93c00-3f39-11ed-8317-0242ac1c0002\"]);\n",
              "//# sourceURL=js_de94d048f2"
            ]
          },
          "metadata": {}
        },
        {
          "output_type": "display_data",
          "data": {
            "text/plain": [
              "<IPython.core.display.Javascript object>"
            ],
            "application/javascript": [
              "window[\"3fc3e9ba-3f39-11ed-8317-0242ac1c0002\"] = google.colab.output.setActiveOutputArea(window[\"3fa8a27c-3f39-11ed-8317-0242ac1c0002\"]);\n",
              "//# sourceURL=js_2e1b95c95a"
            ]
          },
          "metadata": {}
        },
        {
          "output_type": "display_data",
          "data": {
            "text/plain": [
              "<IPython.core.display.Javascript object>"
            ],
            "application/javascript": [
              "window[\"405f9f18-3f39-11ed-8317-0242ac1c0002\"] = google.colab.output.getActiveOutputArea();\n",
              "//# sourceURL=js_d997a99db6"
            ]
          },
          "metadata": {}
        },
        {
          "output_type": "display_data",
          "data": {
            "text/plain": [
              "<IPython.core.display.Javascript object>"
            ],
            "application/javascript": [
              "window[\"40603720-3f39-11ed-8317-0242ac1c0002\"] = document.querySelector(\"#id46-0-0\");\n",
              "//# sourceURL=js_3cc03da156"
            ]
          },
          "metadata": {}
        },
        {
          "output_type": "display_data",
          "data": {
            "text/plain": [
              "<IPython.core.display.Javascript object>"
            ],
            "application/javascript": [
              "window[\"4060aaca-3f39-11ed-8317-0242ac1c0002\"] = google.colab.output.setActiveOutputArea(window[\"40603720-3f39-11ed-8317-0242ac1c0002\"]);\n",
              "//# sourceURL=js_35548b27c0"
            ]
          },
          "metadata": {}
        },
        {
          "output_type": "display_data",
          "data": {
            "text/plain": [
              "<IPython.core.display.Javascript object>"
            ],
            "application/javascript": [
              "window[\"407cbe4a-3f39-11ed-8317-0242ac1c0002\"] = google.colab.output.setActiveOutputArea(window[\"405f9f18-3f39-11ed-8317-0242ac1c0002\"]);\n",
              "//# sourceURL=js_556a925bcf"
            ]
          },
          "metadata": {}
        },
        {
          "output_type": "display_data",
          "data": {
            "text/plain": [
              "<IPython.core.display.Javascript object>"
            ],
            "application/javascript": [
              "window[\"41198086-3f39-11ed-8317-0242ac1c0002\"] = google.colab.output.getActiveOutputArea();\n",
              "//# sourceURL=js_63c951f5d5"
            ]
          },
          "metadata": {}
        },
        {
          "output_type": "display_data",
          "data": {
            "text/plain": [
              "<IPython.core.display.Javascript object>"
            ],
            "application/javascript": [
              "window[\"4119e378-3f39-11ed-8317-0242ac1c0002\"] = document.querySelector(\"#id46-0-0\");\n",
              "//# sourceURL=js_f5b0b5f5dd"
            ]
          },
          "metadata": {}
        },
        {
          "output_type": "display_data",
          "data": {
            "text/plain": [
              "<IPython.core.display.Javascript object>"
            ],
            "application/javascript": [
              "window[\"411a3ba2-3f39-11ed-8317-0242ac1c0002\"] = google.colab.output.setActiveOutputArea(window[\"4119e378-3f39-11ed-8317-0242ac1c0002\"]);\n",
              "//# sourceURL=js_a832b2852f"
            ]
          },
          "metadata": {}
        },
        {
          "output_type": "display_data",
          "data": {
            "text/plain": [
              "<IPython.core.display.Javascript object>"
            ],
            "application/javascript": [
              "window[\"4135f23e-3f39-11ed-8317-0242ac1c0002\"] = google.colab.output.setActiveOutputArea(window[\"41198086-3f39-11ed-8317-0242ac1c0002\"]);\n",
              "//# sourceURL=js_607e52d803"
            ]
          },
          "metadata": {}
        },
        {
          "output_type": "display_data",
          "data": {
            "text/plain": [
              "<IPython.core.display.Javascript object>"
            ],
            "application/javascript": [
              "window[\"41d1f56c-3f39-11ed-8317-0242ac1c0002\"] = google.colab.output.getActiveOutputArea();\n",
              "//# sourceURL=js_1834d45bf7"
            ]
          },
          "metadata": {}
        },
        {
          "output_type": "display_data",
          "data": {
            "text/plain": [
              "<IPython.core.display.Javascript object>"
            ],
            "application/javascript": [
              "window[\"41d2d752-3f39-11ed-8317-0242ac1c0002\"] = document.querySelector(\"#id46-0-0\");\n",
              "//# sourceURL=js_e8c2bca8c7"
            ]
          },
          "metadata": {}
        },
        {
          "output_type": "display_data",
          "data": {
            "text/plain": [
              "<IPython.core.display.Javascript object>"
            ],
            "application/javascript": [
              "window[\"41d35e84-3f39-11ed-8317-0242ac1c0002\"] = google.colab.output.setActiveOutputArea(window[\"41d2d752-3f39-11ed-8317-0242ac1c0002\"]);\n",
              "//# sourceURL=js_98ffa302bb"
            ]
          },
          "metadata": {}
        },
        {
          "output_type": "display_data",
          "data": {
            "text/plain": [
              "<IPython.core.display.Javascript object>"
            ],
            "application/javascript": [
              "window[\"41ffb100-3f39-11ed-8317-0242ac1c0002\"] = google.colab.output.setActiveOutputArea(window[\"41d1f56c-3f39-11ed-8317-0242ac1c0002\"]);\n",
              "//# sourceURL=js_ee45ddfbb9"
            ]
          },
          "metadata": {}
        },
        {
          "output_type": "display_data",
          "data": {
            "text/plain": [
              "<IPython.core.display.Javascript object>"
            ],
            "application/javascript": [
              "window[\"429b5326-3f39-11ed-8317-0242ac1c0002\"] = google.colab.output.getActiveOutputArea();\n",
              "//# sourceURL=js_5369136c8a"
            ]
          },
          "metadata": {}
        },
        {
          "output_type": "display_data",
          "data": {
            "text/plain": [
              "<IPython.core.display.Javascript object>"
            ],
            "application/javascript": [
              "window[\"429bff10-3f39-11ed-8317-0242ac1c0002\"] = document.querySelector(\"#id46-0-0\");\n",
              "//# sourceURL=js_ffad0cb4ca"
            ]
          },
          "metadata": {}
        },
        {
          "output_type": "display_data",
          "data": {
            "text/plain": [
              "<IPython.core.display.Javascript object>"
            ],
            "application/javascript": [
              "window[\"429c8656-3f39-11ed-8317-0242ac1c0002\"] = google.colab.output.setActiveOutputArea(window[\"429bff10-3f39-11ed-8317-0242ac1c0002\"]);\n",
              "//# sourceURL=js_187e29e811"
            ]
          },
          "metadata": {}
        },
        {
          "output_type": "display_data",
          "data": {
            "text/plain": [
              "<IPython.core.display.Javascript object>"
            ],
            "application/javascript": [
              "window[\"42b9e66a-3f39-11ed-8317-0242ac1c0002\"] = google.colab.output.setActiveOutputArea(window[\"429b5326-3f39-11ed-8317-0242ac1c0002\"]);\n",
              "//# sourceURL=js_cbb5738a2e"
            ]
          },
          "metadata": {}
        },
        {
          "output_type": "display_data",
          "data": {
            "text/plain": [
              "<IPython.core.display.Javascript object>"
            ],
            "application/javascript": [
              "window[\"43554a92-3f39-11ed-8317-0242ac1c0002\"] = google.colab.output.getActiveOutputArea();\n",
              "//# sourceURL=js_94939101b6"
            ]
          },
          "metadata": {}
        },
        {
          "output_type": "display_data",
          "data": {
            "text/plain": [
              "<IPython.core.display.Javascript object>"
            ],
            "application/javascript": [
              "window[\"4355b428-3f39-11ed-8317-0242ac1c0002\"] = document.querySelector(\"#id46-0-0\");\n",
              "//# sourceURL=js_ffa4c92710"
            ]
          },
          "metadata": {}
        },
        {
          "output_type": "display_data",
          "data": {
            "text/plain": [
              "<IPython.core.display.Javascript object>"
            ],
            "application/javascript": [
              "window[\"43565266-3f39-11ed-8317-0242ac1c0002\"] = google.colab.output.setActiveOutputArea(window[\"4355b428-3f39-11ed-8317-0242ac1c0002\"]);\n",
              "//# sourceURL=js_f634ee5cff"
            ]
          },
          "metadata": {}
        },
        {
          "output_type": "display_data",
          "data": {
            "text/plain": [
              "<IPython.core.display.Javascript object>"
            ],
            "application/javascript": [
              "window[\"4372e67e-3f39-11ed-8317-0242ac1c0002\"] = google.colab.output.setActiveOutputArea(window[\"43554a92-3f39-11ed-8317-0242ac1c0002\"]);\n",
              "//# sourceURL=js_52620ad143"
            ]
          },
          "metadata": {}
        },
        {
          "output_type": "display_data",
          "data": {
            "text/plain": [
              "<IPython.core.display.Javascript object>"
            ],
            "application/javascript": [
              "window[\"440e99f2-3f39-11ed-8317-0242ac1c0002\"] = google.colab.output.getActiveOutputArea();\n",
              "//# sourceURL=js_c4f0693f56"
            ]
          },
          "metadata": {}
        },
        {
          "output_type": "display_data",
          "data": {
            "text/plain": [
              "<IPython.core.display.Javascript object>"
            ],
            "application/javascript": [
              "window[\"440ef65e-3f39-11ed-8317-0242ac1c0002\"] = document.querySelector(\"#id46-0-0\");\n",
              "//# sourceURL=js_f3698dc228"
            ]
          },
          "metadata": {}
        },
        {
          "output_type": "display_data",
          "data": {
            "text/plain": [
              "<IPython.core.display.Javascript object>"
            ],
            "application/javascript": [
              "window[\"440f6788-3f39-11ed-8317-0242ac1c0002\"] = google.colab.output.setActiveOutputArea(window[\"440ef65e-3f39-11ed-8317-0242ac1c0002\"]);\n",
              "//# sourceURL=js_b61be38a44"
            ]
          },
          "metadata": {}
        },
        {
          "output_type": "display_data",
          "data": {
            "text/plain": [
              "<IPython.core.display.Javascript object>"
            ],
            "application/javascript": [
              "window[\"442d2e12-3f39-11ed-8317-0242ac1c0002\"] = google.colab.output.setActiveOutputArea(window[\"440e99f2-3f39-11ed-8317-0242ac1c0002\"]);\n",
              "//# sourceURL=js_cd8785ae84"
            ]
          },
          "metadata": {}
        },
        {
          "output_type": "display_data",
          "data": {
            "text/plain": [
              "<IPython.core.display.Javascript object>"
            ],
            "application/javascript": [
              "window[\"44c923c6-3f39-11ed-8317-0242ac1c0002\"] = google.colab.output.getActiveOutputArea();\n",
              "//# sourceURL=js_78c4e53de4"
            ]
          },
          "metadata": {}
        },
        {
          "output_type": "display_data",
          "data": {
            "text/plain": [
              "<IPython.core.display.Javascript object>"
            ],
            "application/javascript": [
              "window[\"44c97b46-3f39-11ed-8317-0242ac1c0002\"] = document.querySelector(\"#id46-0-0\");\n",
              "//# sourceURL=js_beb9b21c35"
            ]
          },
          "metadata": {}
        },
        {
          "output_type": "display_data",
          "data": {
            "text/plain": [
              "<IPython.core.display.Javascript object>"
            ],
            "application/javascript": [
              "window[\"44ca0b2e-3f39-11ed-8317-0242ac1c0002\"] = google.colab.output.setActiveOutputArea(window[\"44c97b46-3f39-11ed-8317-0242ac1c0002\"]);\n",
              "//# sourceURL=js_ccd938d4d8"
            ]
          },
          "metadata": {}
        },
        {
          "output_type": "display_data",
          "data": {
            "text/plain": [
              "<IPython.core.display.Javascript object>"
            ],
            "application/javascript": [
              "window[\"44e4fb0a-3f39-11ed-8317-0242ac1c0002\"] = google.colab.output.setActiveOutputArea(window[\"44c923c6-3f39-11ed-8317-0242ac1c0002\"]);\n",
              "//# sourceURL=js_e9645b5742"
            ]
          },
          "metadata": {}
        },
        {
          "output_type": "display_data",
          "data": {
            "text/plain": [
              "<IPython.core.display.Javascript object>"
            ],
            "application/javascript": [
              "window[\"4580c468-3f39-11ed-8317-0242ac1c0002\"] = google.colab.output.getActiveOutputArea();\n",
              "//# sourceURL=js_2cd0555202"
            ]
          },
          "metadata": {}
        },
        {
          "output_type": "display_data",
          "data": {
            "text/plain": [
              "<IPython.core.display.Javascript object>"
            ],
            "application/javascript": [
              "window[\"458162c4-3f39-11ed-8317-0242ac1c0002\"] = document.querySelector(\"#id46-0-0\");\n",
              "//# sourceURL=js_50066fe002"
            ]
          },
          "metadata": {}
        },
        {
          "output_type": "display_data",
          "data": {
            "text/plain": [
              "<IPython.core.display.Javascript object>"
            ],
            "application/javascript": [
              "window[\"4581e302-3f39-11ed-8317-0242ac1c0002\"] = google.colab.output.setActiveOutputArea(window[\"458162c4-3f39-11ed-8317-0242ac1c0002\"]);\n",
              "//# sourceURL=js_cfd64f85f3"
            ]
          },
          "metadata": {}
        },
        {
          "output_type": "display_data",
          "data": {
            "text/plain": [
              "<IPython.core.display.Javascript object>"
            ],
            "application/javascript": [
              "window[\"459e889a-3f39-11ed-8317-0242ac1c0002\"] = google.colab.output.setActiveOutputArea(window[\"4580c468-3f39-11ed-8317-0242ac1c0002\"]);\n",
              "//# sourceURL=js_51046f35d5"
            ]
          },
          "metadata": {}
        },
        {
          "output_type": "display_data",
          "data": {
            "text/plain": [
              "<IPython.core.display.Javascript object>"
            ],
            "application/javascript": [
              "window[\"4639efa6-3f39-11ed-8317-0242ac1c0002\"] = google.colab.output.getActiveOutputArea();\n",
              "//# sourceURL=js_9fb248de89"
            ]
          },
          "metadata": {}
        },
        {
          "output_type": "display_data",
          "data": {
            "text/plain": [
              "<IPython.core.display.Javascript object>"
            ],
            "application/javascript": [
              "window[\"463a50ea-3f39-11ed-8317-0242ac1c0002\"] = document.querySelector(\"#id46-0-0\");\n",
              "//# sourceURL=js_17e80be9dd"
            ]
          },
          "metadata": {}
        },
        {
          "output_type": "display_data",
          "data": {
            "text/plain": [
              "<IPython.core.display.Javascript object>"
            ],
            "application/javascript": [
              "window[\"463aad42-3f39-11ed-8317-0242ac1c0002\"] = google.colab.output.setActiveOutputArea(window[\"463a50ea-3f39-11ed-8317-0242ac1c0002\"]);\n",
              "//# sourceURL=js_ebfc10ad11"
            ]
          },
          "metadata": {}
        },
        {
          "output_type": "display_data",
          "data": {
            "text/plain": [
              "<IPython.core.display.Javascript object>"
            ],
            "application/javascript": [
              "window[\"4658dcae-3f39-11ed-8317-0242ac1c0002\"] = google.colab.output.setActiveOutputArea(window[\"4639efa6-3f39-11ed-8317-0242ac1c0002\"]);\n",
              "//# sourceURL=js_97489f753b"
            ]
          },
          "metadata": {}
        },
        {
          "output_type": "display_data",
          "data": {
            "text/plain": [
              "<IPython.core.display.Javascript object>"
            ],
            "application/javascript": [
              "window[\"46f7dd4a-3f39-11ed-8317-0242ac1c0002\"] = google.colab.output.getActiveOutputArea();\n",
              "//# sourceURL=js_01cff1c977"
            ]
          },
          "metadata": {}
        },
        {
          "output_type": "display_data",
          "data": {
            "text/plain": [
              "<IPython.core.display.Javascript object>"
            ],
            "application/javascript": [
              "window[\"46f864f4-3f39-11ed-8317-0242ac1c0002\"] = document.querySelector(\"#id46-0-0\");\n",
              "//# sourceURL=js_5edcf23846"
            ]
          },
          "metadata": {}
        },
        {
          "output_type": "display_data",
          "data": {
            "text/plain": [
              "<IPython.core.display.Javascript object>"
            ],
            "application/javascript": [
              "window[\"46f8e47e-3f39-11ed-8317-0242ac1c0002\"] = google.colab.output.setActiveOutputArea(window[\"46f864f4-3f39-11ed-8317-0242ac1c0002\"]);\n",
              "//# sourceURL=js_10e7e660b0"
            ]
          },
          "metadata": {}
        },
        {
          "output_type": "display_data",
          "data": {
            "text/plain": [
              "<IPython.core.display.Javascript object>"
            ],
            "application/javascript": [
              "window[\"47143396-3f39-11ed-8317-0242ac1c0002\"] = google.colab.output.setActiveOutputArea(window[\"46f7dd4a-3f39-11ed-8317-0242ac1c0002\"]);\n",
              "//# sourceURL=js_079b2d879d"
            ]
          },
          "metadata": {}
        },
        {
          "output_type": "display_data",
          "data": {
            "text/plain": [
              "<IPython.core.display.Javascript object>"
            ],
            "application/javascript": [
              "window[\"47b03480-3f39-11ed-8317-0242ac1c0002\"] = google.colab.output.getActiveOutputArea();\n",
              "//# sourceURL=js_ec17e70093"
            ]
          },
          "metadata": {}
        },
        {
          "output_type": "display_data",
          "data": {
            "text/plain": [
              "<IPython.core.display.Javascript object>"
            ],
            "application/javascript": [
              "window[\"47b0bf54-3f39-11ed-8317-0242ac1c0002\"] = document.querySelector(\"#id46-0-0\");\n",
              "//# sourceURL=js_c0d34146f7"
            ]
          },
          "metadata": {}
        },
        {
          "output_type": "display_data",
          "data": {
            "text/plain": [
              "<IPython.core.display.Javascript object>"
            ],
            "application/javascript": [
              "window[\"47b11ea4-3f39-11ed-8317-0242ac1c0002\"] = google.colab.output.setActiveOutputArea(window[\"47b0bf54-3f39-11ed-8317-0242ac1c0002\"]);\n",
              "//# sourceURL=js_1237da19a1"
            ]
          },
          "metadata": {}
        },
        {
          "output_type": "display_data",
          "data": {
            "text/plain": [
              "<IPython.core.display.Javascript object>"
            ],
            "application/javascript": [
              "window[\"47ce966e-3f39-11ed-8317-0242ac1c0002\"] = google.colab.output.setActiveOutputArea(window[\"47b03480-3f39-11ed-8317-0242ac1c0002\"]);\n",
              "//# sourceURL=js_38a101fe24"
            ]
          },
          "metadata": {}
        },
        {
          "output_type": "display_data",
          "data": {
            "text/plain": [
              "<IPython.core.display.Javascript object>"
            ],
            "application/javascript": [
              "window[\"486b39d8-3f39-11ed-8317-0242ac1c0002\"] = google.colab.output.getActiveOutputArea();\n",
              "//# sourceURL=js_baf4af3555"
            ]
          },
          "metadata": {}
        },
        {
          "output_type": "display_data",
          "data": {
            "text/plain": [
              "<IPython.core.display.Javascript object>"
            ],
            "application/javascript": [
              "window[\"486babb6-3f39-11ed-8317-0242ac1c0002\"] = document.querySelector(\"#id46-0-0\");\n",
              "//# sourceURL=js_ca63e7b65a"
            ]
          },
          "metadata": {}
        },
        {
          "output_type": "display_data",
          "data": {
            "text/plain": [
              "<IPython.core.display.Javascript object>"
            ],
            "application/javascript": [
              "window[\"486c1a9c-3f39-11ed-8317-0242ac1c0002\"] = google.colab.output.setActiveOutputArea(window[\"486babb6-3f39-11ed-8317-0242ac1c0002\"]);\n",
              "//# sourceURL=js_6f625c6909"
            ]
          },
          "metadata": {}
        },
        {
          "output_type": "display_data",
          "data": {
            "text/plain": [
              "<IPython.core.display.Javascript object>"
            ],
            "application/javascript": [
              "window[\"48890ea4-3f39-11ed-8317-0242ac1c0002\"] = google.colab.output.setActiveOutputArea(window[\"486b39d8-3f39-11ed-8317-0242ac1c0002\"]);\n",
              "//# sourceURL=js_70b754f35e"
            ]
          },
          "metadata": {}
        },
        {
          "output_type": "display_data",
          "data": {
            "text/plain": [
              "<IPython.core.display.Javascript object>"
            ],
            "application/javascript": [
              "window[\"49271590-3f39-11ed-8317-0242ac1c0002\"] = google.colab.output.getActiveOutputArea();\n",
              "//# sourceURL=js_841be932f5"
            ]
          },
          "metadata": {}
        },
        {
          "output_type": "display_data",
          "data": {
            "text/plain": [
              "<IPython.core.display.Javascript object>"
            ],
            "application/javascript": [
              "window[\"49277a80-3f39-11ed-8317-0242ac1c0002\"] = document.querySelector(\"#id46-0-0\");\n",
              "//# sourceURL=js_4a2820c68b"
            ]
          },
          "metadata": {}
        },
        {
          "output_type": "display_data",
          "data": {
            "text/plain": [
              "<IPython.core.display.Javascript object>"
            ],
            "application/javascript": [
              "window[\"4927e498-3f39-11ed-8317-0242ac1c0002\"] = google.colab.output.setActiveOutputArea(window[\"49277a80-3f39-11ed-8317-0242ac1c0002\"]);\n",
              "//# sourceURL=js_9ca3328db8"
            ]
          },
          "metadata": {}
        },
        {
          "output_type": "display_data",
          "data": {
            "text/plain": [
              "<IPython.core.display.Javascript object>"
            ],
            "application/javascript": [
              "window[\"49441384-3f39-11ed-8317-0242ac1c0002\"] = google.colab.output.setActiveOutputArea(window[\"49271590-3f39-11ed-8317-0242ac1c0002\"]);\n",
              "//# sourceURL=js_620702df95"
            ]
          },
          "metadata": {}
        },
        {
          "output_type": "display_data",
          "data": {
            "text/plain": [
              "<IPython.core.display.Javascript object>"
            ],
            "application/javascript": [
              "window[\"49e040c4-3f39-11ed-8317-0242ac1c0002\"] = google.colab.output.getActiveOutputArea();\n",
              "//# sourceURL=js_edae666fd6"
            ]
          },
          "metadata": {}
        },
        {
          "output_type": "display_data",
          "data": {
            "text/plain": [
              "<IPython.core.display.Javascript object>"
            ],
            "application/javascript": [
              "window[\"49e09e8e-3f39-11ed-8317-0242ac1c0002\"] = document.querySelector(\"#id46-0-0\");\n",
              "//# sourceURL=js_4acc3e4f05"
            ]
          },
          "metadata": {}
        },
        {
          "output_type": "display_data",
          "data": {
            "text/plain": [
              "<IPython.core.display.Javascript object>"
            ],
            "application/javascript": [
              "window[\"49e111b6-3f39-11ed-8317-0242ac1c0002\"] = google.colab.output.setActiveOutputArea(window[\"49e09e8e-3f39-11ed-8317-0242ac1c0002\"]);\n",
              "//# sourceURL=js_7963c709ec"
            ]
          },
          "metadata": {}
        },
        {
          "output_type": "display_data",
          "data": {
            "text/plain": [
              "<IPython.core.display.Javascript object>"
            ],
            "application/javascript": [
              "window[\"4a0ce3ea-3f39-11ed-8317-0242ac1c0002\"] = google.colab.output.setActiveOutputArea(window[\"49e040c4-3f39-11ed-8317-0242ac1c0002\"]);\n",
              "//# sourceURL=js_528a497b84"
            ]
          },
          "metadata": {}
        },
        {
          "output_type": "display_data",
          "data": {
            "text/plain": [
              "<IPython.core.display.Javascript object>"
            ],
            "application/javascript": [
              "window[\"4aa7e368-3f39-11ed-8317-0242ac1c0002\"] = google.colab.output.getActiveOutputArea();\n",
              "//# sourceURL=js_ed4e0fe5c9"
            ]
          },
          "metadata": {}
        },
        {
          "output_type": "display_data",
          "data": {
            "text/plain": [
              "<IPython.core.display.Javascript object>"
            ],
            "application/javascript": [
              "window[\"4aa83cc8-3f39-11ed-8317-0242ac1c0002\"] = document.querySelector(\"#id46-0-0\");\n",
              "//# sourceURL=js_3c53b2e7b7"
            ]
          },
          "metadata": {}
        },
        {
          "output_type": "display_data",
          "data": {
            "text/plain": [
              "<IPython.core.display.Javascript object>"
            ],
            "application/javascript": [
              "window[\"4aa8af6e-3f39-11ed-8317-0242ac1c0002\"] = google.colab.output.setActiveOutputArea(window[\"4aa83cc8-3f39-11ed-8317-0242ac1c0002\"]);\n",
              "//# sourceURL=js_f34ed69ce4"
            ]
          },
          "metadata": {}
        },
        {
          "output_type": "display_data",
          "data": {
            "text/plain": [
              "<IPython.core.display.Javascript object>"
            ],
            "application/javascript": [
              "window[\"4ac4a8a4-3f39-11ed-8317-0242ac1c0002\"] = google.colab.output.setActiveOutputArea(window[\"4aa7e368-3f39-11ed-8317-0242ac1c0002\"]);\n",
              "//# sourceURL=js_f29fa21302"
            ]
          },
          "metadata": {}
        },
        {
          "output_type": "display_data",
          "data": {
            "text/plain": [
              "<IPython.core.display.Javascript object>"
            ],
            "application/javascript": [
              "window[\"4b6096a6-3f39-11ed-8317-0242ac1c0002\"] = google.colab.output.getActiveOutputArea();\n",
              "//# sourceURL=js_e949b4db5f"
            ]
          },
          "metadata": {}
        },
        {
          "output_type": "display_data",
          "data": {
            "text/plain": [
              "<IPython.core.display.Javascript object>"
            ],
            "application/javascript": [
              "window[\"4b60fd76-3f39-11ed-8317-0242ac1c0002\"] = document.querySelector(\"#id46-0-0\");\n",
              "//# sourceURL=js_0ee079d813"
            ]
          },
          "metadata": {}
        },
        {
          "output_type": "display_data",
          "data": {
            "text/plain": [
              "<IPython.core.display.Javascript object>"
            ],
            "application/javascript": [
              "window[\"4b616c0c-3f39-11ed-8317-0242ac1c0002\"] = google.colab.output.setActiveOutputArea(window[\"4b60fd76-3f39-11ed-8317-0242ac1c0002\"]);\n",
              "//# sourceURL=js_dfc73820b9"
            ]
          },
          "metadata": {}
        },
        {
          "output_type": "display_data",
          "data": {
            "text/plain": [
              "<IPython.core.display.Javascript object>"
            ],
            "application/javascript": [
              "window[\"4b7e2202-3f39-11ed-8317-0242ac1c0002\"] = google.colab.output.setActiveOutputArea(window[\"4b6096a6-3f39-11ed-8317-0242ac1c0002\"]);\n",
              "//# sourceURL=js_c7fe1b1e17"
            ]
          },
          "metadata": {}
        },
        {
          "output_type": "display_data",
          "data": {
            "text/plain": [
              "<IPython.core.display.Javascript object>"
            ],
            "application/javascript": [
              "window[\"4c1c5f58-3f39-11ed-8317-0242ac1c0002\"] = google.colab.output.getActiveOutputArea();\n",
              "//# sourceURL=js_19d12eaca6"
            ]
          },
          "metadata": {}
        },
        {
          "output_type": "display_data",
          "data": {
            "text/plain": [
              "<IPython.core.display.Javascript object>"
            ],
            "application/javascript": [
              "window[\"4c1cc7e0-3f39-11ed-8317-0242ac1c0002\"] = document.querySelector(\"#id46-0-0\");\n",
              "//# sourceURL=js_ffb3ae6280"
            ]
          },
          "metadata": {}
        },
        {
          "output_type": "display_data",
          "data": {
            "text/plain": [
              "<IPython.core.display.Javascript object>"
            ],
            "application/javascript": [
              "window[\"4c1d3a04-3f39-11ed-8317-0242ac1c0002\"] = google.colab.output.setActiveOutputArea(window[\"4c1cc7e0-3f39-11ed-8317-0242ac1c0002\"]);\n",
              "//# sourceURL=js_2d1ced78c9"
            ]
          },
          "metadata": {}
        },
        {
          "output_type": "display_data",
          "data": {
            "text/plain": [
              "<IPython.core.display.Javascript object>"
            ],
            "application/javascript": [
              "window[\"4c398eca-3f39-11ed-8317-0242ac1c0002\"] = google.colab.output.setActiveOutputArea(window[\"4c1c5f58-3f39-11ed-8317-0242ac1c0002\"]);\n",
              "//# sourceURL=js_42bce08d22"
            ]
          },
          "metadata": {}
        },
        {
          "output_type": "display_data",
          "data": {
            "text/plain": [
              "<IPython.core.display.Javascript object>"
            ],
            "application/javascript": [
              "window[\"4cd4f9fa-3f39-11ed-8317-0242ac1c0002\"] = google.colab.output.getActiveOutputArea();\n",
              "//# sourceURL=js_01128a3992"
            ]
          },
          "metadata": {}
        },
        {
          "output_type": "display_data",
          "data": {
            "text/plain": [
              "<IPython.core.display.Javascript object>"
            ],
            "application/javascript": [
              "window[\"4cd5560c-3f39-11ed-8317-0242ac1c0002\"] = document.querySelector(\"#id46-0-0\");\n",
              "//# sourceURL=js_e4af5cf1d8"
            ]
          },
          "metadata": {}
        },
        {
          "output_type": "display_data",
          "data": {
            "text/plain": [
              "<IPython.core.display.Javascript object>"
            ],
            "application/javascript": [
              "window[\"4cd5aea4-3f39-11ed-8317-0242ac1c0002\"] = google.colab.output.setActiveOutputArea(window[\"4cd5560c-3f39-11ed-8317-0242ac1c0002\"]);\n",
              "//# sourceURL=js_d4ef828107"
            ]
          },
          "metadata": {}
        },
        {
          "output_type": "display_data",
          "data": {
            "text/plain": [
              "<IPython.core.display.Javascript object>"
            ],
            "application/javascript": [
              "window[\"4cf26382-3f39-11ed-8317-0242ac1c0002\"] = google.colab.output.setActiveOutputArea(window[\"4cd4f9fa-3f39-11ed-8317-0242ac1c0002\"]);\n",
              "//# sourceURL=js_8f9e0a85f6"
            ]
          },
          "metadata": {}
        },
        {
          "output_type": "display_data",
          "data": {
            "text/plain": [
              "<IPython.core.display.Javascript object>"
            ],
            "application/javascript": [
              "window[\"4d8e2308-3f39-11ed-8317-0242ac1c0002\"] = google.colab.output.getActiveOutputArea();\n",
              "//# sourceURL=js_d51c0f1c73"
            ]
          },
          "metadata": {}
        },
        {
          "output_type": "display_data",
          "data": {
            "text/plain": [
              "<IPython.core.display.Javascript object>"
            ],
            "application/javascript": [
              "window[\"4d8e8320-3f39-11ed-8317-0242ac1c0002\"] = document.querySelector(\"#id46-0-0\");\n",
              "//# sourceURL=js_587da97f21"
            ]
          },
          "metadata": {}
        },
        {
          "output_type": "display_data",
          "data": {
            "text/plain": [
              "<IPython.core.display.Javascript object>"
            ],
            "application/javascript": [
              "window[\"4d8eeb3a-3f39-11ed-8317-0242ac1c0002\"] = google.colab.output.setActiveOutputArea(window[\"4d8e8320-3f39-11ed-8317-0242ac1c0002\"]);\n",
              "//# sourceURL=js_7a7014034d"
            ]
          },
          "metadata": {}
        },
        {
          "output_type": "stream",
          "name": "stdout",
          "text": [
            "Episode:  100\n",
            "Reward:  50\n"
          ]
        },
        {
          "output_type": "display_data",
          "data": {
            "text/plain": [
              "<Figure size 432x288 with 1 Axes>"
            ],
            "image/png": "[encoded data removed]"
          },
          "metadata": {
            "needs_background": "light"
          }
        },
        {
          "output_type": "display_data",
          "data": {
            "text/plain": [
              "<IPython.core.display.Javascript object>"
            ],
            "application/javascript": [
              "window[\"4daf7a9e-3f39-11ed-8317-0242ac1c0002\"] = google.colab.output.setActiveOutputArea(window[\"4d8e2308-3f39-11ed-8317-0242ac1c0002\"]);\n",
              "//# sourceURL=js_bb8e40ff00"
            ]
          },
          "metadata": {}
        }
      ]
    },
    {
      "cell_type": "code",
      "source": [
        "plt.plot(epsilon_decay, label = \"Epsilon Decay\")\n",
        "plt.xlabel(\"Episodes\")\n",
        "plt.ylabel(\"Epsilon\")\n",
        "plt.title(\"Epsilion decay in Q-learning - Deterministic\")\n",
        "plt.show()"
      ],
      "metadata": {
        "colab": {
          "base_uri": "https://localhost:8080/",
          "height": 295
        },
        "id": "uklXPq30KrgS",
        "outputId": "f46c0ba7-b24d-4f7f-9827-58776a83497c"
      },
      "execution_count": 150,
      "outputs": [
        {
          "output_type": "display_data",
          "data": {
            "text/plain": [
              "<Figure size 432x288 with 1 Axes>"
            ],
            "image/png": "[encoded data removed]"
          },
          "metadata": {
            "needs_background": "light"
          }
        }
      ]
    },
    {
      "cell_type": "code",
      "source": [
        "plt.plot(reward_per_episode, label = \"Rewards per episode\")\n",
        "plt.xlabel(\"Episodes\")\n",
        "plt.ylabel(\"Cumulative discounted reward\")\n",
        "plt.title(\"Cumulative Rewards per Episode in Q-Learning - Deterministic\")\n",
        "plt.show()"
      ],
      "metadata": {
        "colab": {
          "base_uri": "https://localhost:8080/",
          "height": 295
        },
        "id": "vAxFiCE3KvPT",
        "outputId": "4d9214c0-48c7-47fb-83ae-07f05d068647"
      },
      "execution_count": 151,
      "outputs": [
        {
          "output_type": "display_data",
          "data": {
            "text/plain": [
              "<Figure size 432x288 with 1 Axes>"
            ],
            "image/png": "[encoded data removed]"
          },
          "metadata": {
            "needs_background": "light"
          }
        }
      ]
    },
    {
      "cell_type": "code",
      "source": [
        "env_sarsa = GridEnvironment(rows=4, cols=4)"
      ],
      "metadata": {
        "colab": {
          "base_uri": "https://localhost:8080/",
          "height": 21
        },
        "id": "0xtw0HRoXTqz",
        "outputId": "3a832cf3-e99d-40b9-9340-b276ecb47587"
      },
      "execution_count": 140,
      "outputs": [
        {
          "output_type": "display_data",
          "data": {
            "text/plain": [
              "<IPython.core.display.HTML object>"
            ],
            "text/html": [
              "<style>\n",
              "       table#id48, #id48 > tbody > tr > th, #id48 > tbody > tr > td {\n",
              "         border: 1px solid lightgray;\n",
              "         border-collapse:collapse;\n",
              "         \n",
              "        }</style>"
            ]
          },
          "metadata": {}
        },
        {
          "output_type": "display_data",
          "data": {
            "text/plain": [
              "<IPython.core.display.HTML object>"
            ],
            "text/html": [
              "<table id=id48><tr><td id=id48-0-0></td></tr></table>"
            ]
          },
          "metadata": {}
        }
      ]
    },
    {
      "cell_type": "code",
      "source": [
        "obs1 = env_sarsa.reset()\n",
        "episode = 100\n",
        "learning_rate = 0.1\n",
        "discount_rate = 0.9\n",
        "epsilon = 1.0\n",
        "decay_rate= (0.01) ** (1/episode)\n",
        "reward_per_episode_sarsa = []\n",
        "render_break = 10\n",
        "epsilon_decay = []\n",
        "\n",
        "max_timesteps = 100\n",
        "for timestep in range(1, 101):\n",
        "    epsilon_decay.append(epsilon)\n",
        "    render = True if timestep % render_break == 0 else False \n",
        "    done = False\n",
        "    reward = 0 \n",
        "    obs1 = env_sarsa.reset()\n",
        "    agent_old_action = env_sarsa.next_action(epsilon)\n",
        "    cumulative_reward = 0\n",
        "    \n",
        "\n",
        "    while not done:\n",
        "        agent_old_position = env_sarsa.agent_pos.copy()\n",
        "        observation, reward, done, info = env_sarsa.step(agent_old_action)\n",
        "        cumulative_reward+=reward\n",
        "        new_action = env_sarsa.next_action(epsilon)\n",
        "        env_sarsa.qtable[tuple(agent_old_position)][agent_old_action] = env_sarsa.qtable[tuple(agent_old_position)][agent_old_action] + learning_rate * (reward + discount_rate * (env_sarsa.qtable[tuple(env_sarsa.agent_pos)][new_action]) - env_sarsa.qtable[tuple(agent_old_position)][agent_old_action])\n",
        "        agent_old_action = new_action\n",
        "        if render:\n",
        "          print(\"Episode: \", timestep)\n",
        "          print(\"Reward: \", cumulative_reward)\n",
        "          env_sarsa.render()          \n",
        "\n",
        "    reward_per_episode_sarsa.append(cumulative_reward)\n",
        "    epsilon *= decay_rate"
      ],
      "metadata": {
        "colab": {
          "base_uri": "https://localhost:8080/",
          "height": 1000
        },
        "id": "dApn0jcFXjGi",
        "outputId": "030aabf0-f0cc-4647-b97f-d05ad90f20f8"
      },
      "execution_count": 145,
      "outputs": [
        {
          "output_type": "stream",
          "name": "stdout",
          "text": [
            "Episode:  10\n",
            "Reward:  7\n",
            "Episode:  10\n",
            "Reward:  7\n",
            "Episode:  10\n",
            "Reward:  14\n",
            "Episode:  10\n",
            "Reward:  17\n",
            "Episode:  10\n",
            "Reward:  17\n",
            "Episode:  10\n",
            "Reward:  17\n",
            "Episode:  10\n",
            "Reward:  20\n",
            "Episode:  10\n",
            "Reward:  20\n",
            "Episode:  10\n",
            "Reward:  23\n",
            "Episode:  10\n",
            "Reward:  30\n",
            "Episode:  20\n",
            "Reward:  7\n",
            "Episode:  20\n",
            "Reward:  7\n",
            "Episode:  20\n",
            "Reward:  14\n",
            "Episode:  20\n",
            "Reward:  17\n",
            "Episode:  20\n",
            "Reward:  17\n",
            "Episode:  20\n",
            "Reward:  17\n",
            "Episode:  20\n",
            "Reward:  17\n",
            "Episode:  20\n",
            "Reward:  20\n",
            "Episode:  20\n",
            "Reward:  20\n",
            "Episode:  20\n",
            "Reward:  23\n",
            "Episode:  30\n",
            "Reward:  7\n",
            "Episode:  30\n",
            "Reward:  7\n",
            "Episode:  30\n",
            "Reward:  14\n",
            "Episode:  30\n",
            "Reward:  17\n",
            "Episode:  30\n",
            "Reward:  24\n",
            "Episode:  30\n",
            "Reward:  24\n",
            "Episode:  30\n",
            "Reward:  31\n",
            "Episode:  30\n",
            "Reward:  31\n",
            "Episode:  30\n",
            "Reward:  31\n",
            "Episode:  30\n",
            "Reward:  31\n",
            "Episode:  40\n",
            "Reward:  7\n",
            "Episode:  40\n",
            "Reward:  7\n",
            "Episode:  40\n",
            "Reward:  14\n",
            "Episode:  40\n",
            "Reward:  17\n",
            "Episode:  40\n",
            "Reward:  24\n",
            "Episode:  40\n",
            "Reward:  27\n",
            "Episode:  40\n",
            "Reward:  34\n",
            "Episode:  40\n",
            "Reward:  37\n",
            "Episode:  40\n",
            "Reward:  37\n",
            "Episode:  40\n",
            "Reward:  40\n",
            "Episode:  50\n",
            "Reward:  7\n",
            "Episode:  50\n",
            "Reward:  10\n",
            "Episode:  50\n",
            "Reward:  17\n",
            "Episode:  50\n",
            "Reward:  20\n",
            "Episode:  50\n",
            "Reward:  27\n",
            "Episode:  50\n",
            "Reward:  30\n",
            "Episode:  50\n",
            "Reward:  37\n",
            "Episode:  50\n",
            "Reward:  40\n",
            "Episode:  50\n",
            "Reward:  47\n",
            "Episode:  50\n",
            "Reward:  50\n",
            "Episode:  60\n",
            "Reward:  7\n",
            "Episode:  60\n",
            "Reward:  10\n",
            "Episode:  60\n",
            "Reward:  17\n",
            "Episode:  60\n",
            "Reward:  20\n",
            "Episode:  60\n",
            "Reward:  20\n",
            "Episode:  60\n",
            "Reward:  23\n",
            "Episode:  60\n",
            "Reward:  30\n",
            "Episode:  60\n",
            "Reward:  33\n",
            "Episode:  60\n",
            "Reward:  40\n",
            "Episode:  60\n",
            "Reward:  43\n",
            "Episode:  70\n",
            "Reward:  7\n",
            "Episode:  70\n",
            "Reward:  10\n",
            "Episode:  70\n",
            "Reward:  17\n",
            "Episode:  70\n",
            "Reward:  20\n",
            "Episode:  70\n",
            "Reward:  27\n",
            "Episode:  70\n",
            "Reward:  30\n",
            "Episode:  70\n",
            "Reward:  37\n",
            "Episode:  70\n",
            "Reward:  40\n",
            "Episode:  70\n",
            "Reward:  47\n",
            "Episode:  70\n",
            "Reward:  50\n",
            "Episode:  80\n",
            "Reward:  7\n",
            "Episode:  80\n",
            "Reward:  10\n",
            "Episode:  80\n",
            "Reward:  17\n",
            "Episode:  80\n",
            "Reward:  20\n",
            "Episode:  80\n",
            "Reward:  27\n",
            "Episode:  80\n",
            "Reward:  30\n",
            "Episode:  80\n",
            "Reward:  37\n",
            "Episode:  80\n",
            "Reward:  40\n",
            "Episode:  80\n",
            "Reward:  47\n",
            "Episode:  80\n",
            "Reward:  50\n",
            "Episode:  90\n",
            "Reward:  7\n",
            "Episode:  90\n",
            "Reward:  10\n",
            "Episode:  90\n",
            "Reward:  17\n",
            "Episode:  90\n",
            "Reward:  20\n",
            "Episode:  90\n",
            "Reward:  27\n",
            "Episode:  90\n",
            "Reward:  30\n",
            "Episode:  90\n",
            "Reward:  37\n",
            "Episode:  90\n",
            "Reward:  40\n",
            "Episode:  90\n",
            "Reward:  47\n",
            "Episode:  90\n",
            "Reward:  50\n",
            "Episode:  100\n",
            "Reward:  7\n",
            "Episode:  100\n",
            "Reward:  10\n",
            "Episode:  100\n",
            "Reward:  17\n",
            "Episode:  100\n",
            "Reward:  20\n",
            "Episode:  100\n",
            "Reward:  27\n",
            "Episode:  100\n",
            "Reward:  30\n",
            "Episode:  100\n",
            "Reward:  37\n",
            "Episode:  100\n",
            "Reward:  40\n",
            "Episode:  100\n",
            "Reward:  47\n",
            "Episode:  100\n",
            "Reward:  50\n"
          ]
        },
        {
          "output_type": "display_data",
          "data": {
            "text/plain": [
              "<Figure size 432x288 with 1 Axes>"
            ],
            "image/png": "[encoded data removed]"
          },
          "metadata": {
            "needs_background": "light"
          }
        }
      ]
    },
    {
      "cell_type": "code",
      "source": [
        "plt.plot(epsilon_decay, label = \"Epsilon Decay\")\n",
        "plt.xlabel(\"Episodes\")\n",
        "plt.ylabel(\"Epsilon\")\n",
        "plt.title(\"Epsilion decay in SARSA - Deterministic\")\n",
        "plt.show()"
      ],
      "metadata": {
        "colab": {
          "base_uri": "https://localhost:8080/",
          "height": 295
        },
        "id": "vExs1bBjJ1CV",
        "outputId": "b79c9e0e-3cfa-4282-f549-e970d07478cc"
      },
      "execution_count": 146,
      "outputs": [
        {
          "output_type": "display_data",
          "data": {
            "text/plain": [
              "<Figure size 432x288 with 1 Axes>"
            ],
            "image/png": "[encoded data removed]"
          },
          "metadata": {
            "needs_background": "light"
          }
        }
      ]
    },
    {
      "cell_type": "code",
      "source": [
        "plt.plot(reward_per_episode_sarsa, label = \"Rewards per episode\")\n",
        "plt.xlabel(\"Episodes\")\n",
        "plt.ylabel(\"Cumulative discounted reward\")\n",
        "plt.title(\"Cumulative Rewards per Episode in SARSA - Deterministic\")\n",
        "plt.show()"
      ],
      "metadata": {
        "colab": {
          "base_uri": "https://localhost:8080/",
          "height": 295
        },
        "id": "fcM9tae_J6iZ",
        "outputId": "4ce19f6c-6d24-4be5-b05b-de1691ec6985"
      },
      "execution_count": 147,
      "outputs": [
        {
          "output_type": "display_data",
          "data": {
            "text/plain": [
              "<Figure size 432x288 with 1 Axes>"
            ],
            "image/png": "[encoded data removed]"
          },
          "metadata": {
            "needs_background": "light"
          }
        }
      ]
    },
    {
      "cell_type": "code",
      "source": [
        "plt.plot(reward_per_episode, color='r', label='Q learning')\n",
        "plt.plot(reward_per_episode_sarsa, color='g', label='SARSA')\n",
        "plt.legend()\n",
        "plt.xlabel(\"Episodes\")\n",
        "plt.ylabel(\"Cumulative discounted reward\")\n",
        "plt.title(\"Comparision between Q-learning and SARSA\")\n",
        "plt.show()"
      ],
      "metadata": {
        "colab": {
          "base_uri": "https://localhost:8080/",
          "height": 295
        },
        "id": "AwPksVBfKEZJ",
        "outputId": "080f21d6-9aff-4d85-9fc2-e1a05d7874ca"
      },
      "execution_count": 149,
      "outputs": [
        {
          "output_type": "display_data",
          "data": {
            "text/plain": [
              "<Figure size 432x288 with 1 Axes>"
            ],
            "image/png": "[encoded data removed]"
          },
          "metadata": {
            "needs_background": "light"
          }
        }
      ]
    }
  ]
}